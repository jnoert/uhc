{
 "cells": [
  {
   "cell_type": "code",
   "execution_count": null,
   "metadata": {},
   "outputs": [],
   "source": [
    "## goalies"
   ]
  },
  {
   "cell_type": "code",
   "execution_count": 1,
   "metadata": {},
   "outputs": [
    {
     "name": "stdout",
     "output_type": "stream",
     "text": [
      "All files have been merged and saved to 'assets/goalies-merged.csv'.\n"
     ]
    }
   ],
   "source": [
    "import pandas as pd\n",
    "\n",
    "# Step 1: List of CSV files to merge\n",
    "file_names = [\n",
    "    'assets/goalies.csv',\n",
    "    'assets/goalies-2.csv',\n",
    "    'assets/goalies-3.csv',\n",
    "    'assets/goalies-4.csv',\n",
    "    'assets/goalies-5.csv',\n",
    "    'assets/goalies-6.csv',\n",
    "    'assets/goalies-7.csv',\n",
    "    'assets/goalies-8.csv',\n",
    "    'assets/goalies-9.csv',\n",
    "    'assets/goalies-10.csv',\n",
    "    'assets/goalies-11.csv',\n",
    "    'assets/goalies-12.csv',\n",
    "    'assets/goalies-13.csv',\n",
    "    'assets/goalies-14.csv',\n",
    "    'assets/goalies-15.csv',\n",
    "    'assets/goalies-16.csv'\n",
    "]\n",
    "\n",
    "# Step 2: Load and concatenate the CSV files\n",
    "merged_df = pd.concat([pd.read_csv(file) for file in file_names], ignore_index=True)\n",
    "\n",
    "# Step 3: Save the merged DataFrame to a new CSV file\n",
    "merged_df.to_csv('assets/goalies-merged.csv', index=False)\n",
    "\n",
    "# Print confirmation\n",
    "print(\"All files have been merged and saved to 'assets/goalies-merged.csv'.\")"
   ]
  }
 ],
 "metadata": {
  "kernelspec": {
   "display_name": "myenv",
   "language": "python",
   "name": "python3"
  },
  "language_info": {
   "codemirror_mode": {
    "name": "ipython",
    "version": 3
   },
   "file_extension": ".py",
   "mimetype": "text/x-python",
   "name": "python",
   "nbconvert_exporter": "python",
   "pygments_lexer": "ipython3",
   "version": "3.9.6"
  }
 },
 "nbformat": 4,
 "nbformat_minor": 2
}
