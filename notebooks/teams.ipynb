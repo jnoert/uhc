{
 "cells": [
  {
   "cell_type": "code",
   "execution_count": null,
   "metadata": {},
   "outputs": [],
   "source": [
    "## teams (not game level)"
   ]
  },
  {
   "cell_type": "code",
   "execution_count": null,
   "metadata": {},
   "outputs": [],
   "source": []
  },
  {
   "cell_type": "code",
   "execution_count": 2,
   "metadata": {},
   "outputs": [
    {
     "name": "stdout",
     "output_type": "stream",
     "text": [
      "Total rows: 204300\n"
     ]
    }
   ],
   "source": [
    "import pandas as pd\n",
    "\n",
    "# Read the CSV file\n",
    "df = pd.read_csv('assets/all_teams.csv')\n",
    "\n",
    "# Get the total number of rows\n",
    "total_rows = df.shape[0]\n",
    "\n",
    "# Print the total number of rows\n",
    "print(f\"Total rows: {total_rows}\")"
   ]
  },
  {
   "cell_type": "code",
   "execution_count": 19,
   "metadata": {},
   "outputs": [
    {
     "name": "stdout",
     "output_type": "stream",
     "text": [
      "Merged CSV file created successfully: merged_teams.csv\n"
     ]
    }
   ],
   "source": [
    "import pandas as pd\n",
    "\n",
    "# List of file names with the 'assets/' prefix\n",
    "file_names = ['assets/teams.csv', 'assets/teams-2.csv', 'assets/teams-3.csv', 'assets/teams-4.csv', \n",
    "              'assets/teams-5.csv', 'assets/teams-6.csv', 'assets/teams-7.csv', 'assets/teams-8.csv', \n",
    "              'assets/teams-9.csv', 'assets/teams-10.csv', 'assets/teams-11.csv', 'assets/teams-12.csv', \n",
    "              'assets/teams-13.csv', 'assets/teams-14.csv', 'assets/teams-15.csv', 'assets/teams-16.csv']\n",
    "\n",
    "# Read and concatenate all CSV files\n",
    "df_list = [pd.read_csv(file) for file in file_names]\n",
    "merged_df = pd.concat(df_list, ignore_index=True)\n",
    "\n",
    "# Save the merged DataFrame to a new CSV file\n",
    "merged_df.to_csv('teams-merged.csv', index=False)\n",
    "\n",
    "print(\"Merged CSV file created successfully: merged_teams.csv\")"
   ]
  },
  {
   "cell_type": "code",
   "execution_count": 1,
   "metadata": {},
   "outputs": [
    {
     "name": "stdout",
     "output_type": "stream",
     "text": [
      "Created file: assets/teams_other.csv\n",
      "Created file: assets/teams_all.csv\n",
      "Created file: assets/teams_5on5.csv\n",
      "Created file: assets/teams_4on5.csv\n",
      "Created file: assets/teams_5on4.csv\n",
      "Created file: assets/teams_nan.csv\n",
      "All situation-based files created successfully.\n"
     ]
    }
   ],
   "source": [
    "import pandas as pd\n",
    "\n",
    "# Load the merged CSV file\n",
    "df = pd.read_csv('assets/teams-merged.csv')\n",
    "\n",
    "# Get unique values in the 'situation' column\n",
    "situations = df['situation'].unique()\n",
    "\n",
    "# Loop through each unique situation and create a new CSV file\n",
    "for situation in situations:\n",
    "    # Filter the DataFrame based on the situation\n",
    "    df_filtered = df[df['situation'] == situation]\n",
    "    \n",
    "    # Define the filename based on the situation value\n",
    "    file_name = f'assets/teams_{situation}.csv'\n",
    "    \n",
    "    # Save the filtered DataFrame to a new CSV file\n",
    "    df_filtered.to_csv(file_name, index=False)\n",
    "    \n",
    "    print(f\"Created file: {file_name}\")\n",
    "\n",
    "print(\"All situation-based files created successfully.\")"
   ]
  },
  {
   "cell_type": "code",
   "execution_count": null,
   "metadata": {},
   "outputs": [],
   "source": []
  },
  {
   "cell_type": "code",
   "execution_count": 4,
   "metadata": {},
   "outputs": [
    {
     "name": "stdout",
     "output_type": "stream",
     "text": [
      "Filtered data of Stanley Cup winners created successfully: 'assets/teams-stanley_cup_winners.csv'\n"
     ]
    }
   ],
   "source": [
    "import pandas as pd\n",
    "\n",
    "# Load the teams data and the Stanley Cup champions data\n",
    "teams_df = pd.read_csv('assets/teams_all.csv')\n",
    "champions_df = pd.read_csv('nhl_champions.csv')\n",
    "\n",
    "# Assuming both DataFrames have a 'season' and 'team' column to cross-reference\n",
    "# Merge the two DataFrames based on the 'season' and 'team' columns\n",
    "merged_df = pd.merge(teams_df, champions_df, how='inner', on=['season', 'team'])\n",
    "\n",
    "# Save the filtered DataFrame to a new CSV file\n",
    "merged_df.to_csv('assets/teams-stanley_cup_winners.csv', index=False)\n",
    "\n",
    "print(\"Filtered data of Stanley Cup winners created successfully: 'assets/teams-stanley_cup_winners.csv'\")"
   ]
  },
  {
   "cell_type": "code",
   "execution_count": 3,
   "metadata": {},
   "outputs": [
    {
     "name": "stdout",
     "output_type": "stream",
     "text": [
      "Team names updated successfully in 'nhl_champions.csv'.\n"
     ]
    }
   ],
   "source": [
    "import pandas as pd\n",
    "\n",
    "# Load the nhl_champions.csv file\n",
    "champions_df = pd.read_csv('nhl_champions.csv')\n",
    "\n",
    "# Replace the team names according to the specified rules\n",
    "champions_df['team'] = champions_df['team'].replace({'LAK': 'L.A.', 'TBL': 'T.B.'})\n",
    "\n",
    "# Save the updated DataFrame back to the CSV file\n",
    "champions_df.to_csv('nhl_champions.csv', index=False)\n",
    "\n",
    "print(\"Team names updated successfully in 'nhl_champions.csv'.\")"
   ]
  },
  {
   "cell_type": "code",
   "execution_count": 5,
   "metadata": {},
   "outputs": [
    {
     "name": "stdout",
     "output_type": "stream",
     "text": [
      "Team names updated successfully in 'nhl_champions.csv'.\n",
      "Team names updated successfully and saved to 'assets/teams_merged_renamed.csv'.\n"
     ]
    }
   ],
   "source": [
    "import pandas as pd\n",
    "\n",
    "# Task 1: Update 'nhl_champions.csv' team names\n",
    "\n",
    "# Load the nhl_champions.csv file\n",
    "champions_df = pd.read_csv('nhl_champions.csv')\n",
    "\n",
    "# Replace the team names according to the specified rules\n",
    "champions_df['team'] = champions_df['team'].replace({\n",
    "    'L.A.': 'LAK',\n",
    "    'T.B.': 'TBL'\n",
    "})\n",
    "\n",
    "# Save the updated DataFrame back to the CSV file\n",
    "champions_df.to_csv('nhl_champions.csv', index=False)\n",
    "\n",
    "print(\"Team names updated successfully in 'nhl_champions.csv'.\")\n",
    "\n",
    "# Task 2: Duplicate 'assets/teams-merged.csv', update team names, and save as a new file\n",
    "\n",
    "# Load the assets/teams-merged.csv file\n",
    "teams_df = pd.read_csv('assets/teams-merged.csv')\n",
    "\n",
    "# Replace the team names according to the specified rules\n",
    "teams_df['team'] = teams_df['team'].replace({\n",
    "    'N.J.': 'NJD',\n",
    "    'T.B.': 'TBL',\n",
    "    'S.J.': 'SJS',\n",
    "    'L.A.': 'LAK'\n",
    "})\n",
    "\n",
    "# Save the updated DataFrame to a new CSV file with a new name\n",
    "new_file_name = 'assets/teams_merged_renamed.csv'\n",
    "teams_df.to_csv(new_file_name, index=False)\n",
    "\n",
    "print(f\"Team names updated successfully and saved to '{new_file_name}'.\")"
   ]
  },
  {
   "cell_type": "code",
   "execution_count": 20,
   "metadata": {},
   "outputs": [
    {
     "name": "stdout",
     "output_type": "stream",
     "text": [
      "Team names updated successfully in 'assets/teams-merged_renamed.csv'.\n"
     ]
    }
   ],
   "source": [
    "import pandas as pd\n",
    "\n",
    "# Load the 'assets/teams-merged_renamed.csv' file\n",
    "teams_df = pd.read_csv('assets/teams-merged.csv')\n",
    "\n",
    "# Replace the team names according to the specified rules\n",
    "teams_df['team'] = teams_df['team'].replace({\n",
    "    'N.J': 'NJD',\n",
    "    'T.B': 'TBL',\n",
    "    'S.J': 'SJS',\n",
    "    'L.A': 'LAK'\n",
    "})\n",
    "\n",
    "# Save the updated DataFrame back to the CSV file (or to a new file if preferred)\n",
    "teams_df.to_csv('assets/teams-merged.csv', index=False)\n",
    "\n",
    "print(\"Team names updated successfully in 'assets/teams-merged_renamed.csv'.\")"
   ]
  },
  {
   "cell_type": "code",
   "execution_count": 22,
   "metadata": {},
   "outputs": [
    {
     "name": "stdout",
     "output_type": "stream",
     "text": [
      "Created file: assets/teams-merged_other.csv\n",
      "Created file: assets/teams-merged_all.csv\n",
      "Created file: assets/teams-merged_5on5.csv\n",
      "Created file: assets/teams-merged_4on5.csv\n",
      "Created file: assets/teams-merged_5on4.csv\n",
      "All situation-based files created successfully.\n"
     ]
    }
   ],
   "source": [
    "import pandas as pd\n",
    "\n",
    "# Load the merged CSV file\n",
    "df = pd.read_csv('assets/teams-merged.csv')\n",
    "\n",
    "# Get unique values in the 'situation' column\n",
    "situations = df['situation'].unique()\n",
    "\n",
    "# Loop through each unique situation and create a new CSV file\n",
    "for situation in situations:\n",
    "    # Filter the DataFrame based on the situation\n",
    "    df_filtered = df[df['situation'] == situation]\n",
    "    \n",
    "    # Define the filename based on the situation value\n",
    "    file_name = f'assets/teams-merged_{situation}.csv'\n",
    "    \n",
    "    # Save the filtered DataFrame to a new CSV file\n",
    "    df_filtered.to_csv(file_name, index=False)\n",
    "    \n",
    "    print(f\"Created file: {file_name}\")\n",
    "\n",
    "print(\"All situation-based files created successfully.\")"
   ]
  },
  {
   "cell_type": "code",
   "execution_count": 16,
   "metadata": {},
   "outputs": [
    {
     "name": "stdout",
     "output_type": "stream",
     "text": [
      "Filtered data of Stanley Cup winners created successfully: 'assets/teams-stanley_cup_winners.csv'\n"
     ]
    }
   ],
   "source": [
    "import pandas as pd\n",
    "\n",
    "# Load the teams data and the Stanley Cup champions data\n",
    "teams_df = pd.read_csv('assets/teams-merged_all.csv')\n",
    "champions_df = pd.read_csv('nhl_champions.csv')\n",
    "\n",
    "# Assuming both DataFrames have a 'season' and 'team' column to cross-reference\n",
    "# Merge the two DataFrames based on the 'season' and 'team' columns\n",
    "merged_df = pd.merge(teams_df, champions_df, how='inner', on=['season', 'team'])\n",
    "\n",
    "# Save the filtered DataFrame to a new CSV file\n",
    "merged_df.to_csv('assets/teams-stanley_cup_winners.csv', index=False)\n",
    "\n",
    "print(\"Filtered data of Stanley Cup winners created successfully: 'assets/teams-stanley_cup_winners.csv'\")"
   ]
  },
  {
   "cell_type": "code",
   "execution_count": 14,
   "metadata": {},
   "outputs": [
    {
     "name": "stdout",
     "output_type": "stream",
     "text": [
      "Titles added successfully to 'assets/teams-2022-titled.csv'.\n"
     ]
    }
   ],
   "source": [
    "#fixing two files without proper headers\n",
    "import pandas as pd\n",
    "\n",
    "# Define the titles as a list\n",
    "titles = [\n",
    "    'team', 'season', 'name', 'team', 'position', 'situation', 'games_played', \n",
    "    'xGoalsPercentage', 'corsiPercentage', 'fenwickPercentage', 'iceTime', 'xOnGoalFor', \n",
    "    'xGoalsFor', 'xReboundsFor', 'xFreezeFor', 'xPlayStoppedFor', 'xPlayContinuedInZoneFor', \n",
    "    'xPlayContinuedOutsideZoneFor', 'flurryAdjustedxGoalsFor', 'scoreVenueAdjustedxGoalsFor', \n",
    "    'flurryScoreVenueAdjustedxGoalsFor', 'shotsOnGoalFor', 'missedShotsFor', 'blockedShotAttemptsFor', \n",
    "    'shotAttemptsFor', 'goalsFor', 'reboundsFor', 'reboundGoalsFor', 'freezeFor', 'playStoppedFor', \n",
    "    'playContinuedInZoneFor', 'playContinuedOutsideZoneFor', 'savedShotsOnGoalFor', \n",
    "    'savedUnblockedShotAttemptsFor', 'penaltiesFor', 'penalityMinutesFor', 'faceOffsWonFor', \n",
    "    'hitsFor', 'takeawaysFor', 'giveawaysFor', 'lowDangerShotsFor', 'mediumDangerShotsFor', \n",
    "    'highDangerShotsFor', 'lowDangerxGoalsFor', 'mediumDangerxGoalsFor', 'highDangerxGoalsFor', \n",
    "    'lowDangerGoalsFor', 'mediumDangerGoalsFor', 'highDangerGoalsFor', 'scoreAdjustedShotsAttemptsFor', \n",
    "    'unblockedShotAttemptsFor', 'scoreAdjustedUnblockedShotAttemptsFor', 'dZoneGiveawaysFor', \n",
    "    'xGoalsFromxReboundsOfShotsFor', 'xGoalsFromActualReboundsOfShotsFor', 'reboundxGoalsFor', \n",
    "    'totalShotCreditFor', 'scoreAdjustedTotalShotCreditFor', 'scoreFlurryAdjustedTotalShotCreditFor', \n",
    "    'xOnGoalAgainst', 'xGoalsAgainst', 'xReboundsAgainst', 'xFreezeAgainst', 'xPlayStoppedAgainst', \n",
    "    'xPlayContinuedInZoneAgainst', 'xPlayContinuedOutsideZoneAgainst', 'flurryAdjustedxGoalsAgainst', \n",
    "    'scoreVenueAdjustedxGoalsAgainst', 'flurryScoreVenueAdjustedxGoalsAgainst', 'shotsOnGoalAgainst', \n",
    "    'missedShotsAgainst', 'blockedShotAttemptsAgainst', 'shotAttemptsAgainst', 'goalsAgainst', \n",
    "    'reboundsAgainst', 'reboundGoalsAgainst', 'freezeAgainst', 'playStoppedAgainst', \n",
    "    'playContinuedInZoneAgainst', 'playContinuedOutsideZoneAgainst', 'savedShotsOnGoalAgainst', \n",
    "    'savedUnblockedShotAttemptsAgainst', 'penaltiesAgainst', 'penalityMinutesAgainst', \n",
    "    'faceOffsWonAgainst', 'hitsAgainst', 'takeawaysAgainst', 'giveawaysAgainst', 'lowDangerShotsAgainst', \n",
    "    'mediumDangerShotsAgainst', 'highDangerShotsAgainst', 'lowDangerxGoalsAgainst', \n",
    "    'mediumDangerxGoalsAgainst', 'highDangerxGoalsAgainst', 'lowDangerGoalsAgainst', \n",
    "    'mediumDangerGoalsAgainst', 'highDangerGoalsAgainst', 'scoreAdjustedShotsAttemptsAgainst', \n",
    "    'unblockedShotAttemptsAgainst', 'scoreAdjustedUnblockedShotAttemptsAgainst', 'dZoneGiveawaysAgainst', \n",
    "    'xGoalsFromxReboundsOfShotsAgainst', 'xGoalsFromActualReboundsOfShotsAgainst', 'reboundxGoalsAgainst', \n",
    "    'totalShotCreditAgainst', 'scoreAdjustedTotalShotCreditAgainst', 'scoreFlurryAdjustedTotalShotCreditAgainst'\n",
    "]\n",
    "\n",
    "# Load the existing CSV file\n",
    "teams_df = pd.read_csv('assets/teams-2022.csv', header=None)\n",
    "\n",
    "# Insert the new titles row at the top\n",
    "teams_df.columns = titles\n",
    "\n",
    "# Save the updated DataFrame back to the CSV file or to a new file\n",
    "teams_df.to_csv('assets/teams-2014-titled.csv', index=False)\n",
    "\n",
    "print(\"Titles added successfully to 'assets/teams-2022-titled.csv'.\")"
   ]
  },
  {
   "cell_type": "code",
   "execution_count": 15,
   "metadata": {},
   "outputs": [
    {
     "name": "stdout",
     "output_type": "stream",
     "text": [
      "Team names updated successfully in 'assets/teams-16.csv'.\n"
     ]
    }
   ],
   "source": [
    "import pandas as pd\n",
    "\n",
    "# Load the assets/teams-16.csv file\n",
    "teams_df = pd.read_csv('assets/teams-16.csv')\n",
    "\n",
    "# Replace the team names according to the specified rules\n",
    "teams_df['team'] = teams_df['team'].replace({\n",
    "    'N.J': 'NJD',\n",
    "    'T.B': 'TBL',\n",
    "    'S.J': 'SJS',\n",
    "    'L.A': 'LAK'\n",
    "})\n",
    "\n",
    "# Save the updated DataFrame back to the same CSV file or to a new one\n",
    "teams_df.to_csv('assets/teams-16.csv', index=False)\n",
    "\n",
    "print(\"Team names updated successfully in 'assets/teams-16.csv'.\")"
   ]
  },
  {
   "cell_type": "code",
   "execution_count": 37,
   "metadata": {},
   "outputs": [
    {
     "name": "stdout",
     "output_type": "stream",
     "text": [
      "Filtered data of Stanley Cup winners created successfully: 'assets/teams-stanley_cup_winners.csv'\n"
     ]
    }
   ],
   "source": [
    "import pandas as pd\n",
    "\n",
    "# Load the teams data and the Stanley Cup champions data\n",
    "teams_df = pd.read_csv('assets/teams-merged_all.csv')\n",
    "champions_df = pd.read_csv('nhl_champions.csv')\n",
    "\n",
    "# Assuming both DataFrames have a 'season' and 'team' column to cross-reference\n",
    "# Merge the two DataFrames based on the 'season' and 'team' columns\n",
    "merged_df = pd.merge(teams_df, champions_df, how='inner', on=['season', 'team'])\n",
    "\n",
    "# Save the filtered DataFrame to a new CSV file\n",
    "merged_df.to_csv('assets/teams-stanley_cup_winners.csv', index=False)\n",
    "\n",
    "print(\"Filtered data of Stanley Cup winners created successfully: 'assets/teams-stanley_cup_winners.csv'\")"
   ]
  },
  {
   "cell_type": "code",
   "execution_count": 39,
   "metadata": {},
   "outputs": [
    {
     "name": "stdout",
     "output_type": "stream",
     "text": [
      "File sorted by 'season' with the oldest at the top and saved as 'assets/teams-stanley_cup_winners.csv'.\n"
     ]
    }
   ],
   "source": [
    "import pandas as pd\n",
    "\n",
    "# Load the assets/teams-stanley_cup_winners.csv file\n",
    "df = pd.read_csv('assets/teams-stanley_cup_winners.csv')\n",
    "\n",
    "# Sort the DataFrame by the 'season' column in ascending order (oldest at the top)\n",
    "df_sorted = df.sort_values(by='season', ascending=True)\n",
    "\n",
    "# Save the sorted DataFrame back to the same CSV file or to a new one\n",
    "df_sorted.to_csv('assets/teams-stanley_cup_winners.csv', index=False)\n",
    "\n",
    "print(\"File sorted by 'season' with the oldest at the top and saved as 'assets/teams-stanley_cup_winners.csv'.\")"
   ]
  },
  {
   "cell_type": "code",
   "execution_count": 26,
   "metadata": {},
   "outputs": [
    {
     "name": "stdout",
     "output_type": "stream",
     "text": [
      "Year column added successfully as the second column in 'assets/playoffs_updated.csv'.\n"
     ]
    }
   ],
   "source": [
    "import pandas as pd\n",
    "\n",
    "# Load the playoffs.csv file\n",
    "playoffs_df = pd.read_csv('assets/playoffs.csv')\n",
    "\n",
    "# Add the new 'year' column with default values (e.g., NaN or any specific value you want)\n",
    "playoffs_df.insert(1, 'year', None)  # Inserts the 'year' column as the second column\n",
    "\n",
    "# Save the updated DataFrame back to the same CSV file or to a new one\n",
    "playoffs_df.to_csv('assets/playoffs.csv', index=False)\n",
    "\n",
    "print(\"Year column added successfully as the second column in 'assets/playoffs_updated.csv'.\")"
   ]
  },
  {
   "cell_type": "code",
   "execution_count": 31,
   "metadata": {},
   "outputs": [
    {
     "ename": "ValueError",
     "evalue": "cannot insert playoff year, already exists",
     "output_type": "error",
     "traceback": [
      "\u001b[0;31m---------------------------------------------------------------------------\u001b[0m",
      "\u001b[0;31mValueError\u001b[0m                                Traceback (most recent call last)",
      "\u001b[0;32m/var/folders/yp/vg1d9hyj2x1g_lgpp2b9r7_80000gn/T/ipykernel_10505/3922456573.py\u001b[0m in \u001b[0;36m?\u001b[0;34m()\u001b[0m\n\u001b[0;32m---> 10\u001b[0;31m \u001b[0;31m## I just realized that my 'nhl_champions.csv' file is NOT formatted in the same way as everything else.\u001b[0m\u001b[0;34m\u001b[0m\u001b[0;34m\u001b[0m\u001b[0;34m\u001b[0m\u001b[0m\n\u001b[0m\u001b[1;32m     11\u001b[0m \u001b[0;31m# I have to account for the fact that the \"season\" is based on the season start year, not the playoff end year.\u001b[0m\u001b[0;34m\u001b[0m\u001b[0;34m\u001b[0m\u001b[0;34m\u001b[0m\u001b[0m\n\u001b[1;32m     12\u001b[0m \u001b[0;34m\u001b[0m\u001b[0m\n\u001b[1;32m     13\u001b[0m \u001b[0;32mimport\u001b[0m \u001b[0mpandas\u001b[0m \u001b[0;32mas\u001b[0m \u001b[0mpd\u001b[0m\u001b[0;34m\u001b[0m\u001b[0;34m\u001b[0m\u001b[0m\n",
      "\u001b[0;32m~/Documents/git/NHL/myenv/lib/python3.9/site-packages/pandas/core/frame.py\u001b[0m in \u001b[0;36m?\u001b[0;34m(self, loc, column, value, allow_duplicates)\u001b[0m\n\u001b[1;32m   5154\u001b[0m                 \u001b[0;34m\"'self.flags.allows_duplicate_labels' is False.\"\u001b[0m\u001b[0;34m\u001b[0m\u001b[0;34m\u001b[0m\u001b[0m\n\u001b[1;32m   5155\u001b[0m             )\n\u001b[1;32m   5156\u001b[0m         \u001b[0;32mif\u001b[0m \u001b[0;32mnot\u001b[0m \u001b[0mallow_duplicates\u001b[0m \u001b[0;32mand\u001b[0m \u001b[0mcolumn\u001b[0m \u001b[0;32min\u001b[0m \u001b[0mself\u001b[0m\u001b[0;34m.\u001b[0m\u001b[0mcolumns\u001b[0m\u001b[0;34m:\u001b[0m\u001b[0;34m\u001b[0m\u001b[0;34m\u001b[0m\u001b[0m\n\u001b[1;32m   5157\u001b[0m             \u001b[0;31m# Should this be a different kind of error??\u001b[0m\u001b[0;34m\u001b[0m\u001b[0;34m\u001b[0m\u001b[0;34m\u001b[0m\u001b[0m\n\u001b[0;32m-> 5158\u001b[0;31m             \u001b[0;32mraise\u001b[0m \u001b[0mValueError\u001b[0m\u001b[0;34m(\u001b[0m\u001b[0;34mf\"cannot insert {column}, already exists\"\u001b[0m\u001b[0;34m)\u001b[0m\u001b[0;34m\u001b[0m\u001b[0;34m\u001b[0m\u001b[0m\n\u001b[0m\u001b[1;32m   5159\u001b[0m         \u001b[0;32mif\u001b[0m \u001b[0;32mnot\u001b[0m \u001b[0mis_integer\u001b[0m\u001b[0;34m(\u001b[0m\u001b[0mloc\u001b[0m\u001b[0;34m)\u001b[0m\u001b[0;34m:\u001b[0m\u001b[0;34m\u001b[0m\u001b[0;34m\u001b[0m\u001b[0m\n\u001b[1;32m   5160\u001b[0m             \u001b[0;32mraise\u001b[0m \u001b[0mTypeError\u001b[0m\u001b[0;34m(\u001b[0m\u001b[0;34m\"loc must be int\"\u001b[0m\u001b[0;34m)\u001b[0m\u001b[0;34m\u001b[0m\u001b[0;34m\u001b[0m\u001b[0m\n\u001b[1;32m   5161\u001b[0m         \u001b[0;31m# convert non stdlib ints to satisfy typing checks\u001b[0m\u001b[0;34m\u001b[0m\u001b[0;34m\u001b[0m\u001b[0;34m\u001b[0m\u001b[0m\n",
      "\u001b[0;31mValueError\u001b[0m: cannot insert playoff year, already exists"
     ]
    }
   ],
   "source": [
    "## I just realized that my 'nhl_champions.csv' file is NOT formatted in the same way as everything else. \n",
    "# I have to account for the fact that the \"season\" is based on the season start year, not the playoff end year.\n",
    "\n",
    "import pandas as pd\n",
    "\n",
    "# Load the data from 'nhl_champions.csv'\n",
    "df = pd.read_csv('nhl_champions.csv')\n",
    "\n",
    "# Add the 'playoff year' column as the first column and duplicate the values from 'Season'\n",
    "df.insert(0, 'playoff year', df['season'])\n",
    "\n",
    "# Save the updated DataFrame back to the same file or to a new file\n",
    "df.to_csv('nhl_champions.csv', index=False)\n",
    "\n",
    "print(\"Added 'playoff year' column and duplicated values from 'Season' in 'nhl_champions.csv'.\")"
   ]
  },
  {
   "cell_type": "code",
   "execution_count": 36,
   "metadata": {},
   "outputs": [
    {
     "name": "stdout",
     "output_type": "stream",
     "text": [
      "   playoff year  season                  full team          coach\n",
      "0          2024    2024      Florida Panthers  FLA   Paul Maurice\n",
      "1          2023    2023  Vegas Golden Knights  VGK  Bruce Cassidy\n",
      "2          2022    2022    Colorado Avalanche  COL   Jared Bednar\n",
      "3          2021    2021   Tampa Bay Lightning  TBL     Jon Cooper\n",
      "4          2020    2020   Tampa Bay Lightning  TBL     Jon Cooper\n",
      "Reduced every value in the 'season' column by 1 and saved the file 'nhl_champions.csv'.\n"
     ]
    }
   ],
   "source": [
    "import pandas as pd\n",
    "\n",
    "# Load the data from 'nhl_championships.csv'\n",
    "df = pd.read_csv('nhl_champions.csv')\n",
    "\n",
    "# Check the first few rows to confirm the 'season' column exists and its contents\n",
    "print(df.head())\n",
    "\n",
    "# Reduce every value in the 'season' column by 1\n",
    "df['season'] = df['season'] - 1\n",
    "\n",
    "# Save the updated DataFrame back to the same file or to a new file\n",
    "df.to_csv('nhl_champions.csv', index=False)\n",
    "\n",
    "print(\"Reduced every value in the 'season' column by 1 and saved the file 'nhl_champions.csv'.\")"
   ]
  },
  {
   "cell_type": "code",
   "execution_count": 38,
   "metadata": {},
   "outputs": [
    {
     "name": "stdout",
     "output_type": "stream",
     "text": [
      "Data sorted by 'season' column from oldest to newest and saved to 'assets/teams-merged_all.csv'.\n"
     ]
    }
   ],
   "source": [
    "import pandas as pd\n",
    "\n",
    "# Load the data from 'assets/teams-merged_all.csv'\n",
    "df = pd.read_csv('assets/teams-merged_all.csv')\n",
    "\n",
    "# Sort the DataFrame by the 'season' column in ascending order (oldest to newest)\n",
    "df_sorted = df.sort_values(by='season', ascending=True)\n",
    "\n",
    "# Save the sorted DataFrame back to the same file or a new file\n",
    "df_sorted.to_csv('assets/teams-merged_all.csv', index=False)\n",
    "\n",
    "print(\"Data sorted by 'season' column from oldest to newest and saved to 'assets/teams-merged_all.csv'.\")"
   ]
  },
  {
   "cell_type": "code",
   "execution_count": 41,
   "metadata": {},
   "outputs": [
    {
     "name": "stdout",
     "output_type": "stream",
     "text": [
      "Merged CSV file created successfully: assets/playoffs-all.csv\n"
     ]
    }
   ],
   "source": [
    "import pandas as pd\n",
    "\n",
    "# List of file names with the 'assets/' prefix\n",
    "file_names = ['assets/playoffs-2008.csv','assets/playoffs-2009.csv','assets/playoffs-2010.csv','assets/playoffs-2011.csv',\n",
    "              'assets/playoffs-2012.csv','assets/playoffs-2013.csv','assets/playoffs-2014.csv','assets/playoffs-2015.csv','assets/playoffs-2016.csv',\n",
    "              'assets/playoffs-2017.csv','assets/playoffs-2018.csv','assets/playoffs-2019.csv','assets/playoffs-2020.csv','assets/playoffs-2021.csv',\n",
    "              'assets/playoffs-2022.csv','assets/playoffs-2023.csv']\n",
    "\n",
    "# Read and concatenate all CSV files\n",
    "df_list = [pd.read_csv(file) for file in file_names]\n",
    "merged_df = pd.concat(df_list, ignore_index=True)\n",
    "\n",
    "# Save the merged DataFrame to a new CSV file\n",
    "merged_df.to_csv('assets/playoffs-all.csv', index=False)\n",
    "\n",
    "print(\"Merged CSV file created successfully: assets/playoffs-all.csv\")"
   ]
  }
 ],
 "metadata": {
  "kernelspec": {
   "display_name": "myenv",
   "language": "python",
   "name": "python3"
  },
  "language_info": {
   "codemirror_mode": {
    "name": "ipython",
    "version": 3
   },
   "file_extension": ".py",
   "mimetype": "text/x-python",
   "name": "python",
   "nbconvert_exporter": "python",
   "pygments_lexer": "ipython3",
   "version": "3.9.6"
  }
 },
 "nbformat": 4,
 "nbformat_minor": 2
}
