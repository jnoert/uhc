{
 "cells": [
  {
   "cell_type": "code",
   "execution_count": 1,
   "metadata": {},
   "outputs": [
    {
     "name": "stdout",
     "output_type": "stream",
     "text": [
      "Unique names have been saved to 'assets/z_unicode-verification-test.csv'.\n"
     ]
    }
   ],
   "source": [
    "import pandas as pd\n",
    "\n",
    "# Step 1: Load the CSV file\n",
    "file_path = 'assets/z_unidecode-test.csv'\n",
    "df = pd.read_csv(file_path)\n",
    "\n",
    "# Step 2: Get unique values from the 'name' column\n",
    "unique_names = df['name'].unique()\n",
    "\n",
    "# Step 3: Convert the unique names to a DataFrame\n",
    "unique_names_df = pd.DataFrame(unique_names, columns=['name'])\n",
    "\n",
    "# Step 4: Save the unique names to a new CSV file\n",
    "output_file = 'assets/z_unicode-verification-test.csv'\n",
    "unique_names_df.to_csv(output_file, index=False)\n",
    "\n",
    "# Print confirmation\n",
    "print(f\"Unique names have been saved to '{output_file}'.\")"
   ]
  },
  {
   "cell_type": "code",
   "execution_count": 2,
   "metadata": {},
   "outputs": [
    {
     "name": "stdout",
     "output_type": "stream",
     "text": [
      "Unique names have been saved to 'assets/z_unicode-verification-test-2.csv'.\n"
     ]
    }
   ],
   "source": [
    "import pandas as pd\n",
    "\n",
    "# Step 1: Load the CSV file\n",
    "file_path = 'assets/z_unidecode-test_unicod.csv'\n",
    "df = pd.read_csv(file_path)\n",
    "\n",
    "# Step 2: Get unique values from the 'name' column\n",
    "unique_names = df['name'].unique()\n",
    "\n",
    "# Step 3: Convert the unique names to a DataFrame\n",
    "unique_names_df = pd.DataFrame(unique_names, columns=['name'])\n",
    "\n",
    "# Step 4: Save the unique names to a new CSV file\n",
    "output_file = 'assets/z_unicode-verification-test-2.csv'\n",
    "unique_names_df.to_csv(output_file, index=False)\n",
    "\n",
    "# Print confirmation\n",
    "print(f\"Unique names have been saved to '{output_file}'.\")"
   ]
  }
 ],
 "metadata": {
  "kernelspec": {
   "display_name": "myenv",
   "language": "python",
   "name": "python3"
  },
  "language_info": {
   "codemirror_mode": {
    "name": "ipython",
    "version": 3
   },
   "file_extension": ".py",
   "mimetype": "text/x-python",
   "name": "python",
   "nbconvert_exporter": "python",
   "pygments_lexer": "ipython3",
   "version": "3.9.6"
  }
 },
 "nbformat": 4,
 "nbformat_minor": 2
}
