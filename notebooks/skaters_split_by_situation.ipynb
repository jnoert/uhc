{
 "cells": [
  {
   "cell_type": "markdown",
   "metadata": {},
   "source": [
    "data source MONEYPUCK"
   ]
  },
  {
   "cell_type": "code",
   "execution_count": 1,
   "metadata": {},
   "outputs": [
    {
     "name": "stdout",
     "output_type": "stream",
     "text": [
      "Saved other situation to 'assets/skaters-merged_other.csv'\n",
      "Saved all situation to 'assets/skaters-merged_all.csv'\n",
      "Saved 5on5 situation to 'assets/skaters-merged_5on5.csv'\n",
      "Saved 4on5 situation to 'assets/skaters-merged_4on5.csv'\n",
      "Saved 5on4 situation to 'assets/skaters-merged_5on4.csv'\n",
      "All situations have been split and saved to 'assets/'\n"
     ]
    }
   ],
   "source": [
    "import pandas as pd\n",
    "import os\n",
    "\n",
    "# Step 1: Load the CSV file\n",
    "file_path = 'assets/skaters-merged.csv'\n",
    "df = pd.read_csv(file_path)\n",
    "\n",
    "# Step 2: Get the unique values in the 'situation' column\n",
    "unique_situations = df['situation'].unique()\n",
    "\n",
    "# Step 3: Split the DataFrame and save each subset to a new CSV file\n",
    "output_dir = 'assets/'\n",
    "os.makedirs(output_dir, exist_ok=True)  # Ensure the output directory exists\n",
    "\n",
    "for situation in unique_situations:\n",
    "    # Filter the DataFrame for the current situation\n",
    "    situation_df = df[df['situation'] == situation]\n",
    "    \n",
    "    # Define the output file name\n",
    "    output_file = os.path.join(output_dir, f'skaters-merged_{situation}.csv')\n",
    "    \n",
    "    # Save the filtered DataFrame to a CSV file\n",
    "    situation_df.to_csv(output_file, index=False)\n",
    "    \n",
    "    print(f\"Saved {situation} situation to '{output_file}'\")\n",
    "\n",
    "# Confirmation message\n",
    "print(f\"All situations have been split and saved to '{output_dir}'\")"
   ]
  }
 ],
 "metadata": {
  "kernelspec": {
   "display_name": "myenv",
   "language": "python",
   "name": "python3"
  },
  "language_info": {
   "codemirror_mode": {
    "name": "ipython",
    "version": 3
   },
   "file_extension": ".py",
   "mimetype": "text/x-python",
   "name": "python",
   "nbconvert_exporter": "python",
   "pygments_lexer": "ipython3",
   "version": "3.9.6"
  }
 },
 "nbformat": 4,
 "nbformat_minor": 2
}
