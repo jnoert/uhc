{
 "cells": [
  {
   "cell_type": "code",
   "execution_count": null,
   "metadata": {},
   "outputs": [],
   "source": [
    "## non-playoff teams"
   ]
  },
  {
   "cell_type": "code",
   "execution_count": 1,
   "metadata": {},
   "outputs": [
    {
     "name": "stdout",
     "output_type": "stream",
     "text": [
      "New column 'abbv' inserted and filled based on 'Team' abbreviations from 'nhl_teams_abbreviations.csv'.\n"
     ]
    }
   ],
   "source": [
    "import pandas as pd\n",
    "\n",
    "# Load the data from 'assets/playoffs-all.csv'\n",
    "playoffs_df = pd.read_csv('assets/playoffs-all.csv')\n",
    "\n",
    "# Load the team abbreviations data from 'nhl_teams_abbreviations.csv'\n",
    "abbreviations_df = pd.read_csv('nhl_teams_abbreviations.csv')\n",
    "\n",
    "# Merge the two DataFrames on the 'Team' column to get the abbreviations\n",
    "merged_df = pd.merge(playoffs_df, abbreviations_df[['Team', 'Abbreviation']], on='Team', how='left')\n",
    "\n",
    "# Insert the 'abbv' column right after the 'Team' column\n",
    "merged_df.insert(2, 'abbv', merged_df['Abbreviation'])\n",
    "\n",
    "# Drop the 'Abbreviation' column as it's now in 'abbv'\n",
    "merged_df = merged_df.drop(columns=['Abbreviation'])\n",
    "\n",
    "# Save the updated DataFrame back to the same file or to a new file\n",
    "merged_df.to_csv('assets/playoffs-all_updated.csv', index=False)\n",
    "\n",
    "print(\"New column 'abbv' inserted and filled based on 'Team' abbreviations from 'nhl_teams_abbreviations.csv'.\")"
   ]
  },
  {
   "cell_type": "code",
   "execution_count": 2,
   "metadata": {},
   "outputs": [
    {
     "name": "stdout",
     "output_type": "stream",
     "text": [
      "Files created:\n",
      " - 'assets/teams_in_playoffs.csv' (Teams that made the playoffs)\n",
      " - 'assets/teams_not_in_playoffs.csv' (Teams that did not make the playoffs)\n"
     ]
    }
   ],
   "source": [
    "import pandas as pd\n",
    "\n",
    "# Load the data from 'assets/teams-merged_all.csv'\n",
    "teams_df = pd.read_csv('assets/teams-merged_all.csv')\n",
    "\n",
    "# Load the data from 'assets/playoffs-all_updated.csv'\n",
    "playoffs_df = pd.read_csv('assets/playoffs-all_updated.csv')\n",
    "\n",
    "# Merge the teams_df with playoffs_df on 'team' and 'season'\n",
    "merged_df = pd.merge(teams_df, playoffs_df[['Team', 'Season']], left_on=['team', 'season'], right_on=['Team', 'Season'], how='left', indicator=True)\n",
    "\n",
    "# Split the data into two DataFrames\n",
    "teams_in_playoffs = merged_df[merged_df['_merge'] == 'both'].drop(columns=['Team', 'Season', '_merge'])\n",
    "teams_not_in_playoffs = merged_df[merged_df['_merge'] == 'left_only'].drop(columns=['Team', 'Season', '_merge'])\n",
    "\n",
    "# Save the results to new CSV files\n",
    "teams_in_playoffs.to_csv('assets/teams_in_playoffs.csv', index=False)\n",
    "teams_not_in_playoffs.to_csv('assets/teams_not_in_playoffs.csv', index=False)\n",
    "\n",
    "print(\"Files created:\")\n",
    "print(\" - 'assets/teams_in_playoffs.csv' (Teams that made the playoffs)\")\n",
    "print(\" - 'assets/teams_not_in_playoffs.csv' (Teams that did not make the playoffs)\")"
   ]
  },
  {
   "cell_type": "code",
   "execution_count": 3,
   "metadata": {},
   "outputs": [
    {
     "name": "stdout",
     "output_type": "stream",
     "text": [
      "No overlap detected between the two files.\n"
     ]
    }
   ],
   "source": [
    "import pandas as pd\n",
    "\n",
    "# Load the data from the two CSV files\n",
    "teams_in_playoffs_df = pd.read_csv('assets/teams_in_playoffs.csv')\n",
    "teams_not_in_playoffs_df = pd.read_csv('assets/teams_not_in_playoffs.csv')\n",
    "\n",
    "# Merge the two DataFrames on 'team' and 'season' to find any overlap\n",
    "overlap_df = pd.merge(teams_in_playoffs_df, teams_not_in_playoffs_df, on=['team', 'season'], how='inner')\n",
    "\n",
    "# Check if there is any overlap\n",
    "if not overlap_df.empty:\n",
    "    print(\"Overlap detected between the two files.\")\n",
    "    print(overlap_df)\n",
    "else:\n",
    "    print(\"No overlap detected between the two files.\")"
   ]
  }
 ],
 "metadata": {
  "kernelspec": {
   "display_name": "myenv",
   "language": "python",
   "name": "python3"
  },
  "language_info": {
   "codemirror_mode": {
    "name": "ipython",
    "version": 3
   },
   "file_extension": ".py",
   "mimetype": "text/x-python",
   "name": "python",
   "nbconvert_exporter": "python",
   "pygments_lexer": "ipython3",
   "version": "3.9.6"
  }
 },
 "nbformat": 4,
 "nbformat_minor": 2
}
