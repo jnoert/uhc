{
 "cells": [
  {
   "cell_type": "markdown",
   "metadata": {},
   "source": [
    "## PLAYOFFS\n",
    "## data from hockey-reference.com\n",
    "## basic team-level palyoff statistics"
   ]
  },
  {
   "cell_type": "code",
   "execution_count": 1,
   "metadata": {},
   "outputs": [
    {
     "name": "stdout",
     "output_type": "stream",
     "text": [
      "New CSV file created successfully: 'assets/teams_new.csv'\n"
     ]
    }
   ],
   "source": [
    "import pandas as pd\n",
    "\n",
    "# Define the data as a list of dictionaries\n",
    "data = [\n",
    "    {\"Rk\": 1, \"Team\": \"Florida Panthers\", \"GP\": 24, \"W\": 16, \"L\": 8, \"T\": 0, \"OW\": 2, \"OL\": 2, \"W-L%\": .667, \"G\": 73, \"GA\": 62, \"DIFF\": 11},\n",
    "    {\"Rk\": 2, \"Team\": \"Edmonton Oilers\", \"GP\": 25, \"W\": 15, \"L\": 10, \"T\": 0, \"OW\": 2, \"OL\": 1, \"W-L%\": .600, \"G\": 86, \"GA\": 65, \"DIFF\": 21},\n",
    "    {\"Rk\": 3, \"Team\": \"New York Rangers\", \"GP\": 16, \"W\": 10, \"L\": 6, \"T\": 0, \"OW\": 4, \"OL\": 1, \"W-L%\": .625, \"G\": 47, \"GA\": 42, \"DIFF\": 5},\n",
    "    {\"Rk\": 4, \"Team\": \"Dallas Stars\", \"GP\": 19, \"W\": 10, \"L\": 9, \"T\": 0, \"OW\": 2, \"OL\": 2, \"W-L%\": .526, \"G\": 52, \"GA\": 48, \"DIFF\": 4},\n",
    "    {\"Rk\": 5, \"Team\": \"Vancouver Canucks\", \"GP\": 13, \"W\": 7, \"L\": 6, \"T\": 0, \"OW\": 1, \"OL\": 1, \"W-L%\": .538, \"G\": 33, \"GA\": 36, \"DIFF\": -3},\n",
    "    {\"Rk\": 6, \"Team\": \"Carolina Hurricanes\", \"GP\": 11, \"W\": 6, \"L\": 5, \"T\": 0, \"OW\": 0, \"OL\": 3, \"W-L%\": .545, \"G\": 38, \"GA\": 32, \"DIFF\": 6},\n",
    "    {\"Rk\": 7, \"Team\": \"Colorado Avalanche\", \"GP\": 11, \"W\": 6, \"L\": 5, \"T\": 0, \"OW\": 1, \"OL\": 1, \"W-L%\": .545, \"G\": 43, \"GA\": 37, \"DIFF\": 6},\n",
    "    {\"Rk\": 8, \"Team\": \"Boston Bruins\", \"GP\": 13, \"W\": 6, \"L\": 7, \"T\": 0, \"OW\": 1, \"OL\": 1, \"W-L%\": .462, \"G\": 31, \"GA\": 31, \"DIFF\": 0},\n",
    "    {\"Rk\": 9, \"Team\": \"Toronto Maple Leafs\", \"GP\": 7, \"W\": 3, \"L\": 4, \"T\": 0, \"OW\": 1, \"OL\": 1, \"W-L%\": .429, \"G\": 12, \"GA\": 18, \"DIFF\": -6},\n",
    "    {\"Rk\": 10, \"Team\": \"Vegas Golden Knights\", \"GP\": 7, \"W\": 3, \"L\": 4, \"T\": 0, \"OW\": 0, \"OL\": 1, \"W-L%\": .429, \"G\": 16, \"GA\": 16, \"DIFF\": 0},\n",
    "    {\"Rk\": 11, \"Team\": \"Nashville Predators\", \"GP\": 6, \"W\": 2, \"L\": 4, \"T\": 0, \"OW\": 0, \"OL\": 1, \"W-L%\": .333, \"G\": 12, \"GA\": 13, \"DIFF\": -1},\n",
    "    {\"Rk\": 12, \"Team\": \"New York Islanders\", \"GP\": 5, \"W\": 1, \"L\": 4, \"T\": 0, \"OW\": 1, \"OL\": 0, \"W-L%\": .200, \"G\": 12, \"GA\": 19, \"DIFF\": -7},\n",
    "    {\"Rk\": 13, \"Team\": \"Tampa Bay Lightning\", \"GP\": 5, \"W\": 1, \"L\": 4, \"T\": 0, \"OW\": 0, \"OL\": 1, \"W-L%\": .200, \"G\": 14, \"GA\": 20, \"DIFF\": -6},\n",
    "    {\"Rk\": 14, \"Team\": \"Winnipeg Jets\", \"GP\": 5, \"W\": 1, \"L\": 4, \"T\": 0, \"OW\": 0, \"OL\": 0, \"W-L%\": .200, \"G\": 15, \"GA\": 28, \"DIFF\": -13},\n",
    "    {\"Rk\": 15, \"Team\": \"Los Angeles Kings\", \"GP\": 5, \"W\": 1, \"L\": 4, \"T\": 0, \"OW\": 1, \"OL\": 0, \"W-L%\": .200, \"G\": 13, \"GA\": 22, \"DIFF\": -9},\n",
    "    {\"Rk\": 16, \"Team\": \"Washington Capitals\", \"GP\": 4, \"W\": 0, \"L\": 4, \"T\": 0, \"OW\": 0, \"OL\": 0, \"W-L%\": .000, \"G\": 7, \"GA\": 15, \"DIFF\": -8},\n",
    "    {\"Rk\": \"\", \"Team\": \"League Average\", \"GP\": 11.0, \"W\": 5.5, \"L\": 5.5, \"T\": 0.0, \"OW\": 1.1, \"OL\": 1.1, \"W-L%\": .500, \"G\": 31.5, \"GA\": 31.5, \"DIFF\": 0},\n",
    "]\n",
    "\n",
    "# Create a DataFrame from the data\n",
    "df = pd.DataFrame(data)\n",
    "\n",
    "# Save the DataFrame to a new CSV file\n",
    "df.to_csv('assets/teams_new.csv', index=False)\n",
    "\n",
    "print(\"New CSV file created successfully: 'assets/teams_new.csv'\")"
   ]
  },
  {
   "cell_type": "code",
   "execution_count": null,
   "metadata": {},
   "outputs": [],
   "source": [
    "import pandas as pd\n",
    "\n",
    "# Define the data as a list of dictionaries\n",
    "data = [\n",
    "    {\"Rk\": 1, \"Team\": \"Vegas Golden Knights\", \"GP\": 22, \"W\": 16, \"L\": 6, \"T\": 0, \"OW\": 3, \"OL\": 2, \"W-L%\": .727, \"G\": 88, \"GA\": 57, \"DIFF\": 31},\n",
    "    {\"Rk\": 2, \"Team\": \"Florida Panthers\", \"GP\": 21, \"W\": 13, \"L\": 8, \"T\": 0, \"OW\": 7, \"OL\": 0, \"W-L%\": .619, \"G\": 62, \"GA\": 69, \"DIFF\": -7},\n",
    "    {\"Rk\": 3, \"Team\": \"Dallas Stars\", \"GP\": 19, \"W\": 10, \"L\": 9, \"T\": 0, \"OW\": 1, \"OL\": 4, \"W-L%\": .526, \"G\": 59, \"GA\": 61, \"DIFF\": -2},\n",
    "    {\"Rk\": 4, \"Team\": \"Carolina Hurricanes\", \"GP\": 15, \"W\": 8, \"L\": 7, \"T\": 0, \"OW\": 3, \"OL\": 2, \"W-L%\": .533, \"G\": 46, \"GA\": 38, \"DIFF\": 8},\n",
    "    {\"Rk\": 5, \"Team\": \"Seattle Kraken\", \"GP\": 14, \"W\": 7, \"L\": 7, \"T\": 0, \"OW\": 2, \"OL\": 0, \"W-L%\": .500, \"G\": 44, \"GA\": 45, \"DIFF\": -1},\n",
    "    {\"Rk\": 6, \"Team\": \"Edmonton Oilers\", \"GP\": 12, \"W\": 6, \"L\": 6, \"T\": 0, \"OW\": 1, \"OL\": 2, \"W-L%\": .500, \"G\": 44, \"GA\": 42, \"DIFF\": 2},\n",
    "    {\"Rk\": 7, \"Team\": \"Toronto Maple Leafs\", \"GP\": 11, \"W\": 5, \"L\": 6, \"T\": 0, \"OW\": 3, \"OL\": 2, \"W-L%\": .455, \"G\": 33, \"GA\": 35, \"DIFF\": -2},\n",
    "    {\"Rk\": 8, \"Team\": \"New Jersey Devils\", \"GP\": 12, \"W\": 5, \"L\": 7, \"T\": 0, \"OW\": 1, \"OL\": 1, \"W-L%\": .417, \"G\": 30, \"GA\": 41, \"DIFF\": -11},\n",
    "    {\"Rk\": 9, \"Team\": \"Boston Bruins\", \"GP\": 7, \"W\": 3, \"L\": 4, \"T\": 0, \"OW\": 0, \"OL\": 2, \"W-L%\": .429, \"G\": 27, \"GA\": 26, \"DIFF\": 1},\n",
    "    {\"Rk\": 10, \"Team\": \"Colorado Avalanche\", \"GP\": 7, \"W\": 3, \"L\": 4, \"T\": 0, \"OW\": 0, \"OL\": 1, \"W-L%\": .429, \"G\": 19, \"GA\": 18, \"DIFF\": 1},\n",
    "    {\"Rk\": 11, \"Team\": \"New York Rangers\", \"GP\": 7, \"W\": 3, \"L\": 4, \"T\": 0, \"OW\": 0, \"OL\": 1, \"W-L%\": .429, \"G\": 17, \"GA\": 17, \"DIFF\": 0},\n",
    "    {\"Rk\": 12, \"Team\": \"New York Islanders\", \"GP\": 6, \"W\": 2, \"L\": 4, \"T\": 0, \"OW\": 0, \"OL\": 2, \"W-L%\": .333, \"G\": 15, \"GA\": 16, \"DIFF\": -1},\n",
    "    {\"Rk\": 13, \"Team\": \"Minnesota Wild\", \"GP\": 6, \"W\": 2, \"L\": 4, \"T\": 0, \"OW\": 1, \"OL\": 0, \"W-L%\": .333, \"G\": 14, \"GA\": 21, \"DIFF\": -7},\n",
    "    {\"Rk\": 14, \"Team\": \"Los Angeles Kings\", \"GP\": 6, \"W\": 2, \"L\": 4, \"T\": 0, \"OW\": 2, \"OL\": 1, \"W-L%\": .333, \"G\": 20, \"GA\": 25, \"DIFF\": -5},\n",
    "    {\"Rk\": 15, \"Team\": \"Tampa Bay Lightning\", \"GP\": 6, \"W\": 2, \"L\": 4, \"T\": 0, \"OW\": 0, \"OL\": 3, \"W-L%\": .333, \"G\": 21, \"GA\": 23, \"DIFF\": -2},\n",
    "    {\"Rk\": 16, \"Team\": \"Winnipeg Jets\", \"GP\": 5, \"W\": 1, \"L\": 4, \"T\": 0, \"OW\": 0, \"OL\": 1, \"W-L%\": .200, \"G\": 14, \"GA\": 19, \"DIFF\": -5},\n",
    "    {\"Rk\": \"\", \"Team\": \"League Average\", \"GP\": 11.0, \"W\": 5.5, \"L\": 5.5, \"T\": 0.0, \"OW\": 1.5, \"OL\": 1.5, \"W-L%\": .500, \"G\": 34.6, \"GA\": 34.6, \"DIFF\": 0},\n",
    "]\n",
    "\n",
    "# Create a DataFrame from the data\n",
    "df = pd.DataFrame(data)\n",
    "\n",
    "# Add the 'Year' column as the first column and fill it with '2023'\n",
    "df.insert(0, 'Year', 2023)\n",
    "\n",
    "# Save the DataFrame to a new CSV file\n",
    "df.to_csv('assets/playoffs-2023.csv', index=False)\n",
    "\n",
    "print(\"New CSV file created successfully with 'Year' as the first column filled with '2023'.\")"
   ]
  },
  {
   "cell_type": "code",
   "execution_count": 4,
   "metadata": {},
   "outputs": [
    {
     "name": "stdout",
     "output_type": "stream",
     "text": [
      "Column 'year' renamed to 'Year' and moved to the first position in 'assets/playoffs_updated.csv'.\n"
     ]
    }
   ],
   "source": [
    "import pandas as pd\n",
    "\n",
    "# Load the playoffs.csv file\n",
    "playoffs_df = pd.read_csv('assets/playoffs.csv')\n",
    "\n",
    "# Move the 'Year' column to be the first column\n",
    "columns = ['Year'] + [col for col in playoffs_df.columns if col != 'Year']\n",
    "playoffs_df = playoffs_df[columns]\n",
    "\n",
    "# Save the updated DataFrame back to the same CSV file or to a new one\n",
    "playoffs_df.to_csv('assets/playoffs_updated.csv', index=False)\n",
    "\n",
    "print(\"Column 'year' renamed to 'Year' and moved to the first position in 'assets/playoffs_updated.csv'.\")"
   ]
  },
  {
   "cell_type": "code",
   "execution_count": 5,
   "metadata": {},
   "outputs": [
    {
     "name": "stdout",
     "output_type": "stream",
     "text": [
      "New CSV file created successfully with 'Year' as the first column filled with '2022'.\n"
     ]
    }
   ],
   "source": [
    "import pandas as pd\n",
    "\n",
    "# Define the data as a list of dictionaries\n",
    "data = [\n",
    "    {\"Rk\": 1, \"Team\": \"Colorado Avalanche\", \"GP\": 20, \"W\": 16, \"L\": 4, \"T\": 0, \"OW\": 5, \"OL\": 1, \"W-L%\": .800, \"G\": 85, \"GA\": 55, \"DIFF\": 30},\n",
    "    {\"Rk\": 2, \"Team\": \"Tampa Bay Lightning\", \"GP\": 23, \"W\": 14, \"L\": 9, \"T\": 0, \"OW\": 1, \"OL\": 2, \"W-L%\": .609, \"G\": 67, \"GA\": 61, \"DIFF\": 6},\n",
    "    {\"Rk\": 3, \"Team\": \"New York Rangers\", \"GP\": 20, \"W\": 10, \"L\": 10, \"T\": 0, \"OW\": 1, \"OL\": 2, \"W-L%\": .500, \"G\": 62, \"GA\": 58, \"DIFF\": 4},\n",
    "    {\"Rk\": 4, \"Team\": \"Edmonton Oilers\", \"GP\": 16, \"W\": 8, \"L\": 8, \"T\": 0, \"OW\": 1, \"OL\": 2, \"W-L%\": .500, \"G\": 65, \"GA\": 59, \"DIFF\": 6},\n",
    "    {\"Rk\": 5, \"Team\": \"Carolina Hurricanes\", \"GP\": 14, \"W\": 7, \"L\": 7, \"T\": 0, \"OW\": 1, \"OL\": 0, \"W-L%\": .500, \"G\": 37, \"GA\": 40, \"DIFF\": -3},\n",
    "    {\"Rk\": 6, \"Team\": \"St. Louis Blues\", \"GP\": 12, \"W\": 6, \"L\": 6, \"T\": 0, \"OW\": 1, \"OL\": 1, \"W-L%\": .500, \"G\": 40, \"GA\": 38, \"DIFF\": 2},\n",
    "    {\"Rk\": 7, \"Team\": \"Calgary Flames\", \"GP\": 12, \"W\": 5, \"L\": 7, \"T\": 0, \"OW\": 1, \"OL\": 1, \"W-L%\": .417, \"G\": 35, \"GA\": 39, \"DIFF\": -4},\n",
    "    {\"Rk\": 8, \"Team\": \"Florida Panthers\", \"GP\": 10, \"W\": 4, \"L\": 6, \"T\": 0, \"OW\": 2, \"OL\": 0, \"W-L%\": .400, \"G\": 23, \"GA\": 32, \"DIFF\": -9},\n",
    "    {\"Rk\": 9, \"Team\": \"Boston Bruins\", \"GP\": 7, \"W\": 3, \"L\": 4, \"T\": 0, \"OW\": 0, \"OL\": 0, \"W-L%\": .429, \"G\": 20, \"GA\": 24, \"DIFF\": -4},\n",
    "    {\"Rk\": 10, \"Team\": \"Los Angeles Kings\", \"GP\": 7, \"W\": 3, \"L\": 4, \"T\": 0, \"OW\": 1, \"OL\": 0, \"W-L%\": .429, \"G\": 17, \"GA\": 27, \"DIFF\": -10},\n",
    "    {\"Rk\": 11, \"Team\": \"Toronto Maple Leafs\", \"GP\": 7, \"W\": 3, \"L\": 4, \"T\": 0, \"OW\": 0, \"OL\": 1, \"W-L%\": .429, \"G\": 24, \"GA\": 23, \"DIFF\": 1},\n",
    "    {\"Rk\": 12, \"Team\": \"Dallas Stars\", \"GP\": 7, \"W\": 3, \"L\": 4, \"T\": 0, \"OW\": 0, \"OL\": 1, \"W-L%\": .429, \"G\": 14, \"GA\": 15, \"DIFF\": -1},\n",
    "    {\"Rk\": 13, \"Team\": \"Pittsburgh Penguins\", \"GP\": 7, \"W\": 3, \"L\": 4, \"T\": 0, \"OW\": 1, \"OL\": 1, \"W-L%\": .429, \"G\": 29, \"GA\": 28, \"DIFF\": 1},\n",
    "    {\"Rk\": 14, \"Team\": \"Minnesota Wild\", \"GP\": 6, \"W\": 2, \"L\": 4, \"T\": 0, \"OW\": 0, \"OL\": 0, \"W-L%\": .333, \"G\": 16, \"GA\": 22, \"DIFF\": -6},\n",
    "    {\"Rk\": 15, \"Team\": \"Washington Capitals\", \"GP\": 6, \"W\": 2, \"L\": 4, \"T\": 0, \"OW\": 0, \"OL\": 2, \"W-L%\": .333, \"G\": 19, \"GA\": 20, \"DIFF\": -1},\n",
    "    {\"Rk\": 16, \"Team\": \"Nashville Predators\", \"GP\": 4, \"W\": 0, \"L\": 4, \"T\": 0, \"OW\": 0, \"OL\": 1, \"W-L%\": .000, \"G\": 9, \"GA\": 21, \"DIFF\": -12},\n",
    "    {\"Rk\": \"\", \"Team\": \"League Average\", \"GP\": 11.1, \"W\": 5.6, \"L\": 5.6, \"T\": 0.0, \"OW\": 1.1, \"OL\": 1.1, \"W-L%\": .500, \"G\": 35.1, \"GA\": 35.1, \"DIFF\": 0},\n",
    "]\n",
    "\n",
    "# Create a DataFrame from the data\n",
    "df = pd.DataFrame(data)\n",
    "\n",
    "# Add the 'Year' column as the first column and fill it with '2022'\n",
    "df.insert(0, 'Year', 2022)\n",
    "\n",
    "# Save the DataFrame to a new CSV file\n",
    "df.to_csv('assets/playoffs-2022.csv', index=False)\n",
    "\n",
    "print(\"New CSV file created successfully with 'Year' as the first column filled with '2022'.\")"
   ]
  },
  {
   "cell_type": "code",
   "execution_count": 6,
   "metadata": {},
   "outputs": [
    {
     "name": "stdout",
     "output_type": "stream",
     "text": [
      "Updated 'Year' column and saved the file: assets/playoffs.csv\n",
      "Updated 'Year' column and saved the file: assets/playoffs-2023.csv\n",
      "Updated 'Year' column and saved the file: assets/playoffs-2022.csv\n",
      "All files have been processed successfully.\n"
     ]
    }
   ],
   "source": [
    "import pandas as pd\n",
    "\n",
    "# List of files to process\n",
    "file_paths = ['assets/playoffs.csv', 'assets/playoffs-2023.csv', 'assets/playoffs-2022.csv']\n",
    "\n",
    "# Process each file\n",
    "for file_path in file_paths:\n",
    "    # Load the CSV file\n",
    "    df = pd.read_csv(file_path)\n",
    "    \n",
    "    # Subtract 1 from each value in the 'Year' column\n",
    "    df['Year'] = df['Year'] - 1\n",
    "    \n",
    "    # Save the updated DataFrame back to the same file\n",
    "    df.to_csv(file_path, index=False)\n",
    "    \n",
    "    print(f\"Updated 'Year' column and saved the file: {file_path}\")\n",
    "\n",
    "print(\"All files have been processed successfully.\")"
   ]
  },
  {
   "cell_type": "code",
   "execution_count": 7,
   "metadata": {},
   "outputs": [
    {
     "name": "stdout",
     "output_type": "stream",
     "text": [
      "Updated 'Year' column and saved the file: assets/playoffs.csv\n"
     ]
    }
   ],
   "source": [
    "import pandas as pd\n",
    "\n",
    "# Load the playoffs.csv file\n",
    "file_path = 'assets/playoffs.csv'\n",
    "df = pd.read_csv(file_path)\n",
    "\n",
    "# Subtract 1 from each value in the 'Year' column\n",
    "df['Year'] = df['Year'] - 1\n",
    "\n",
    "# Save the updated DataFrame back to the same file\n",
    "df.to_csv(file_path, index=False)\n",
    "\n",
    "print(f\"Updated 'Year' column and saved the file: {file_path}\")"
   ]
  },
  {
   "cell_type": "code",
   "execution_count": 8,
   "metadata": {},
   "outputs": [
    {
     "name": "stdout",
     "output_type": "stream",
     "text": [
      "New CSV file created successfully with 'Year' as the first column filled with '2020'.\n"
     ]
    }
   ],
   "source": [
    "import pandas as pd\n",
    "\n",
    "# Define the data as a list of dictionaries\n",
    "data = [\n",
    "    {\"Rk\": 1, \"Team\": \"Tampa Bay Lightning\", \"GP\": 23, \"W\": 16, \"L\": 7, \"T\": 0, \"OW\": 0, \"OL\": 4, \"W-L%\": .696, \"G\": 75, \"GA\": 45, \"DIFF\": 30},\n",
    "    {\"Rk\": 2, \"Team\": \"Montreal Canadiens\", \"GP\": 22, \"W\": 13, \"L\": 9, \"T\": 0, \"OW\": 6, \"OL\": 1, \"W-L%\": .591, \"G\": 51, \"GA\": 54, \"DIFF\": -3},\n",
    "    {\"Rk\": 3, \"Team\": \"New York Islanders\", \"GP\": 19, \"W\": 11, \"L\": 8, \"T\": 0, \"OW\": 4, \"OL\": 1, \"W-L%\": .579, \"G\": 54, \"GA\": 53, \"DIFF\": 1},\n",
    "    {\"Rk\": 4, \"Team\": \"Vegas Golden Knights\", \"GP\": 19, \"W\": 10, \"L\": 9, \"T\": 0, \"OW\": 2, \"OL\": 4, \"W-L%\": .526, \"G\": 53, \"GA\": 46, \"DIFF\": 7},\n",
    "    {\"Rk\": 5, \"Team\": \"Colorado Avalanche\", \"GP\": 10, \"W\": 6, \"L\": 4, \"T\": 0, \"OW\": 1, \"OL\": 1, \"W-L%\": .600, \"G\": 38, \"GA\": 27, \"DIFF\": 11},\n",
    "    {\"Rk\": 6, \"Team\": \"Boston Bruins\", \"GP\": 11, \"W\": 6, \"L\": 5, \"T\": 0, \"OW\": 3, \"OL\": 2, \"W-L%\": .545, \"G\": 33, \"GA\": 32, \"DIFF\": 1},\n",
    "    {\"Rk\": 7, \"Team\": \"Carolina Hurricanes\", \"GP\": 11, \"W\": 5, \"L\": 6, \"T\": 0, \"OW\": 3, \"OL\": 2, \"W-L%\": .455, \"G\": 31, \"GA\": 30, \"DIFF\": 1},\n",
    "    {\"Rk\": 8, \"Team\": \"Winnipeg Jets\", \"GP\": 8, \"W\": 4, \"L\": 4, \"T\": 0, \"OW\": 3, \"OL\": 1, \"W-L%\": .500, \"G\": 20, \"GA\": 22, \"DIFF\": -2},\n",
    "    {\"Rk\": 9, \"Team\": \"Minnesota Wild\", \"GP\": 7, \"W\": 3, \"L\": 4, \"T\": 0, \"OW\": 1, \"OL\": 0, \"W-L%\": .429, \"G\": 13, \"GA\": 20, \"DIFF\": -7},\n",
    "    {\"Rk\": 10, \"Team\": \"Toronto Maple Leafs\", \"GP\": 7, \"W\": 3, \"L\": 4, \"T\": 0, \"OW\": 0, \"OL\": 2, \"W-L%\": .429, \"G\": 18, \"GA\": 14, \"DIFF\": 4},\n",
    "    {\"Rk\": 11, \"Team\": \"Florida Panthers\", \"GP\": 6, \"W\": 2, \"L\": 4, \"T\": 0, \"OW\": 1, \"OL\": 0, \"W-L%\": .333, \"G\": 17, \"GA\": 24, \"DIFF\": -7},\n",
    "    {\"Rk\": 12, \"Team\": \"Pittsburgh Penguins\", \"GP\": 6, \"W\": 2, \"L\": 4, \"T\": 0, \"OW\": 0, \"OL\": 2, \"W-L%\": .333, \"G\": 16, \"GA\": 21, \"DIFF\": -5},\n",
    "    {\"Rk\": 13, \"Team\": \"Nashville Predators\", \"GP\": 6, \"W\": 2, \"L\": 4, \"T\": 0, \"OW\": 2, \"OL\": 2, \"W-L%\": .333, \"G\": 16, \"GA\": 22, \"DIFF\": -6},\n",
    "    {\"Rk\": 14, \"Team\": \"Washington Capitals\", \"GP\": 5, \"W\": 1, \"L\": 4, \"T\": 0, \"OW\": 1, \"OL\": 2, \"W-L%\": .200, \"G\": 10, \"GA\": 16, \"DIFF\": -6},\n",
    "    {\"Rk\": 15, \"Team\": \"St. Louis Blues\", \"GP\": 4, \"W\": 0, \"L\": 4, \"T\": 0, \"OW\": 0, \"OL\": 0, \"W-L%\": .000, \"G\": 7, \"GA\": 20, \"DIFF\": -13},\n",
    "    {\"Rk\": 16, \"Team\": \"Edmonton Oilers\", \"GP\": 4, \"W\": 0, \"L\": 4, \"T\": 0, \"OW\": 0, \"OL\": 3, \"W-L%\": .000, \"G\": 8, \"GA\": 14, \"DIFF\": -6},\n",
    "    {\"Rk\": \"\", \"Team\": \"League Average\", \"GP\": 10.5, \"W\": 5.3, \"L\": 5.3, \"T\": 0.0, \"OW\": 1.8, \"OL\": 1.8, \"W-L%\": .500, \"G\": 28.8, \"GA\": 28.8, \"DIFF\": 0},\n",
    "]\n",
    "\n",
    "# Create a DataFrame from the data\n",
    "df = pd.DataFrame(data)\n",
    "\n",
    "# Add the 'Year' column as the first column and fill it with '2020'\n",
    "df.insert(0, 'Year', 2020)\n",
    "\n",
    "# Save the DataFrame to a new CSV file\n",
    "df.to_csv('assets/playoffs_2020.csv', index=False)\n",
    "\n",
    "print(\"New CSV file created successfully with 'Year' as the first column filled with '2020'.\")"
   ]
  },
  {
   "cell_type": "code",
   "execution_count": 13,
   "metadata": {},
   "outputs": [
    {
     "name": "stdout",
     "output_type": "stream",
     "text": [
      "New CSV file created successfully with 'Year' as the first column filled with '2019'.\n"
     ]
    }
   ],
   "source": [
    "import pandas as pd\n",
    "from io import StringIO\n",
    "\n",
    "# Define the data as a list of dictionaries\n",
    "# Define the CSV data as a string\n",
    "csv_data = \"\"\"Rk,Team,GP,W,L,T,OW,OL,W-L%,G,GA,DIFF\n",
    "1,Tampa Bay Lightning,25,18,7,0,7,2,.720,78,57,21\n",
    "2,Dallas Stars,27,15,12,0,6,1,.556,78,82,-4\n",
    "3,New York Islanders,22,13,9,0,2,4,.591,66,51,15\n",
    "4,Vegas Golden Knights,20,12,8,0,2,2,.600,57,44,13\n",
    "5,Philadelphia Flyers,16,10,6,0,3,0,.625,38,40,-2\n",
    "6,Vancouver Canucks,17,10,7,0,2,1,.588,48,45,3\n",
    "7,Colorado Avalanche,15,9,6,0,0,2,.600,60,41,19\n",
    "8,Montreal Canadiens,10,5,5,0,1,0,.500,23,19,4\n",
    "9,Calgary Flames,10,5,5,0,0,1,.500,33,27,6\n",
    "10,Boston Bruins,13,5,8,0,1,2,.385,29,39,-10\n",
    "11,Carolina Hurricanes,8,4,4,0,0,1,.500,22,19,3\n",
    "12,Arizona Coyotes,9,4,5,0,1,0,.444,22,33,-11\n",
    "13,Chicago Blackhawks,9,4,5,0,0,1,.444,27,30,-3\n",
    "14,Columbus Blue Jackets,10,4,6,0,1,3,.400,24,24,0\n",
    "15,Toronto Maple Leafs,5,2,3,0,1,1,.400,10,12,-2\n",
    "16,Washington Capitals,8,2,6,0,0,2,.250,13,24,-11\n",
    "17,St. Louis Blues,9,2,7,0,1,2,.222,22,32,-10\n",
    "18,Nashville Predators,4,1,3,0,0,1,.250,11,14,-3\n",
    "19,Winnipeg Jets,4,1,3,0,0,0,.250,6,16,-10\n",
    "20,Minnesota Wild,4,1,3,0,0,1,.250,10,12,-2\n",
    "21,Florida Panthers,4,1,3,0,0,0,.250,7,13,-6\n",
    "22,Edmonton Oilers,4,1,3,0,0,0,.250,15,16,-1\n",
    "23,Pittsburgh Penguins,4,1,3,0,0,1,.250,8,10,-2\n",
    "24,New York Rangers,3,0,3,0,0,0,.000,4,11,-7\n",
    "25,League Average,10.8,5.4,5.4,0.0,1.4,1.4,.500,29.6,29.6,0\"\"\"\n",
    "\n",
    "# Use StringIO to treat the string as a file\n",
    "csv_file_like = StringIO(csv_data)\n",
    "\n",
    "# Read the CSV data into a pandas DataFrame\n",
    "df = pd.read_csv(csv_file_like)\n",
    "\n",
    "# Save the DataFrame to a new CSV file\n",
    "df.to_csv('assets/playoffs-2019.csv', index=False)\n",
    "\n",
    "print(\"New CSV file created successfully with 'Year' as the first column filled with '2019'.\")"
   ]
  },
  {
   "cell_type": "code",
   "execution_count": 14,
   "metadata": {},
   "outputs": [
    {
     "name": "stdout",
     "output_type": "stream",
     "text": [
      "Added 'Year' column and saved the updated file 'assets/playoffs-2019.csv'.\n"
     ]
    }
   ],
   "source": [
    "import pandas as pd\n",
    "\n",
    "# Load the data from 'assets/playoffs-2019.csv'\n",
    "df = pd.read_csv('assets/playoffs-2019.csv')\n",
    "\n",
    "# Add the 'Year' column as the first column, and fill it with a specific year, e.g., 2019\n",
    "df.insert(0, 'Year', 2019)\n",
    "\n",
    "# Save the updated DataFrame back to the same file or a new file\n",
    "df.to_csv('assets/playoffs-2019.csv', index=False)\n",
    "\n",
    "print(\"Added 'Year' column and saved the updated file 'assets/playoffs-2019.csv'.\")"
   ]
  },
  {
   "cell_type": "code",
   "execution_count": 16,
   "metadata": {},
   "outputs": [
    {
     "name": "stdout",
     "output_type": "stream",
     "text": [
      "New CSV file created successfully with 'Year' as the first column filled with '2018'.\n"
     ]
    }
   ],
   "source": [
    "import pandas as pd\n",
    "from io import StringIO\n",
    "\n",
    "# Define the CSV data as a string\n",
    "csv_data = \"\"\"Rk,Team,GP,W,L,T,OW,OL,W-L%,G,GA,DIFF\n",
    "1,St. Louis Blues,26,16,10,0,2,2,.615,75,70,5\n",
    "2,Boston Bruins,24,15,9,0,1,2,.625,79,51,28\n",
    "3,San Jose Sharks,20,10,10,0,3,1,.500,58,66,-8\n",
    "4,Carolina Hurricanes,15,8,7,0,2,1,.533,39,42,-3\n",
    "5,Colorado Avalanche,12,7,5,0,3,0,.583,35,31,4\n",
    "6,Dallas Stars,13,7,6,0,1,2,.538,35,30,5\n",
    "7,Columbus Blue Jackets,10,6,4,0,1,1,.600,30,25,5\n",
    "8,New York Islanders,8,4,4,0,1,1,.500,19,19,0\n",
    "9,Vegas Golden Knights,7,3,4,0,0,2,.429,25,23,2\n",
    "10,Toronto Maple Leafs,7,3,4,0,0,0,.429,17,23,-6\n",
    "11,Washington Capitals,7,3,4,0,1,1,.429,20,21,-1\n",
    "12,Nashville Predators,6,2,4,0,1,1,.333,12,18,-6\n",
    "13,Winnipeg Jets,6,2,4,0,1,0,.333,16,16,0\n",
    "14,Calgary Flames,5,1,4,0,0,2,.200,11,17,-6\n",
    "15,Pittsburgh Penguins,4,0,4,0,0,1,.000,6,14,-8\n",
    "16,Tampa Bay Lightning,4,0,4,0,0,0,.000,8,19,-11\n",
    ",League Average,10.9,5.4,5.4,0.0,1.2,1.2,.500,30.3,30.3,0\"\"\"\n",
    "\n",
    "# Use StringIO to treat the string as a file\n",
    "csv_file_like = StringIO(csv_data)\n",
    "\n",
    "# Read the CSV data into a pandas DataFrame\n",
    "df = pd.read_csv(csv_file_like)\n",
    "\n",
    "# Add the 'Year' column as the first column, and fill it with a specific year, e.g., 2019\n",
    "df.insert(0, 'Year', 2018)\n",
    "\n",
    "# Save the DataFrame to a new CSV file\n",
    "df.to_csv('assets/playoffs-2018.csv', index=False)\n",
    "\n",
    "print(\"New CSV file created successfully with 'Year' as the first column filled with '2018'.\")"
   ]
  },
  {
   "cell_type": "code",
   "execution_count": 17,
   "metadata": {},
   "outputs": [
    {
     "name": "stdout",
     "output_type": "stream",
     "text": [
      "New CSV file created successfully with 'Year' as the first column filled with '2017'.\n"
     ]
    }
   ],
   "source": [
    "import pandas as pd\n",
    "from io import StringIO\n",
    "\n",
    "# Define the CSV data as a string\n",
    "csv_data = \"\"\"Rk,Team,GP,W,L,T,OW,OL,W-L%,G,GA,DIFF\n",
    "1,Washington Capitals,24,16,8,0,3,2,.667,86,61,25\n",
    "2,Vegas Golden Knights,20,13,7,0,2,1,.650,57,47,10\n",
    "3,Tampa Bay Lightning,17,11,6,0,1,0,.647,50,48,2\n",
    "4,Winnipeg Jets,17,9,8,0,0,1,.529,53,42,11\n",
    "5,Nashville Predators,13,7,6,0,1,0,.538,41,42,-1\n",
    "6,San Jose Sharks,10,6,4,0,1,1,.600,30,26,4\n",
    "7,Pittsburgh Penguins,12,6,6,0,0,1,.500,42,34,8\n",
    "8,Boston Bruins,12,5,7,0,0,1,.417,41,37,4\n",
    "9,Toronto Maple Leafs,7,3,4,0,0,0,.429,20,28,-8\n",
    "10,Philadelphia Flyers,6,2,4,0,0,0,.333,15,28,-13\n",
    "11,Colorado Avalanche,6,2,4,0,0,0,.333,15,22,-7\n",
    "12,Columbus Blue Jackets,6,2,4,0,2,2,.333,18,24,-6\n",
    "13,Minnesota Wild,5,1,4,0,0,0,.200,9,16,-7\n",
    "14,New Jersey Devils,5,1,4,0,0,0,.200,12,18,-6\n",
    "15,Los Angeles Kings,4,0,4,0,0,1,.000,3,7,-4\n",
    "16,Anaheim Ducks,4,0,4,0,0,0,.000,4,16,-12\n",
    ",League Average,10.5,5.3,5.3,0.0,1.0,1.0,.500,31.0,31.0,0\"\"\"\n",
    "\n",
    "# Use StringIO to treat the string as a file\n",
    "csv_file_like = StringIO(csv_data)\n",
    "\n",
    "# Read the CSV data into a pandas DataFrame\n",
    "df = pd.read_csv(csv_file_like)\n",
    "\n",
    "# Add the 'Year' column as the first column, and fill it with a specific year, e.g., 2019\n",
    "df.insert(0, 'Year', 2017)\n",
    "\n",
    "# Save the DataFrame to a new CSV file\n",
    "df.to_csv('assets/playoffs-2017.csv', index=False)\n",
    "\n",
    "print(\"New CSV file created successfully with 'Year' as the first column filled with '2017'.\")"
   ]
  },
  {
   "cell_type": "code",
   "execution_count": 18,
   "metadata": {},
   "outputs": [
    {
     "name": "stdout",
     "output_type": "stream",
     "text": [
      "New CSV file created successfully with 'Year' as the first column filled with '2016'.\n"
     ]
    }
   ],
   "source": [
    "import pandas as pd\n",
    "from io import StringIO\n",
    "\n",
    "# Define the CSV data as a string\n",
    "csv_data = \"\"\"Rk,Team,GP,W,L,T,OW,OL,W-L%,G,GA,DIFF\n",
    "1,Pittsburgh Penguins,25,16,9,0,2,2,.640,77,57,20\n",
    "2,Nashville Predators,22,14,8,0,2,1,.636,60,48,12\n",
    "3,Ottawa Senators,19,11,8,0,6,2,.579,47,50,-3\n",
    "4,Anaheim Ducks,17,10,7,0,4,1,.588,50,52,-2\n",
    "5,Edmonton Oilers,13,7,6,0,1,3,.538,36,35,1\n",
    "6,Washington Capitals,13,7,6,0,4,2,.538,36,36,0\n",
    "7,St. Louis Blues,11,6,5,0,2,0,.545,22,23,-1\n",
    "8,New York Rangers,12,6,6,0,1,3,.500,34,30,4\n",
    "9,San Jose Sharks,6,2,4,0,1,1,.333,14,12,2\n",
    "10,Montreal Canadiens,6,2,4,0,1,1,.333,11,14,-3\n",
    "11,Boston Bruins,6,2,4,0,1,3,.333,13,15,-2\n",
    "12,Toronto Maple Leafs,6,2,4,0,2,3,.333,16,18,-2\n",
    "13,Minnesota Wild,5,1,4,0,0,2,.200,8,11,-3\n",
    "14,Columbus Blue Jackets,5,1,4,0,0,1,.200,13,21,-8\n",
    "15,Calgary Flames,4,0,4,0,0,1,.000,9,14,-5\n",
    "16,Chicago Blackhawks,4,0,4,0,0,1,.000,3,13,-10\n",
    ",League Average,10.9,5.4,5.4,0.0,1.7,1.7,.500,28.1,28.1,0\"\"\"\n",
    "\n",
    "# Use StringIO to treat the string as a file\n",
    "csv_file_like = StringIO(csv_data)\n",
    "\n",
    "# Read the CSV data into a pandas DataFrame\n",
    "df = pd.read_csv(csv_file_like)\n",
    "\n",
    "# Add the 'Year' column as the first column, and fill it with a specific year, e.g., 2019\n",
    "df.insert(0, 'Year', 2016)\n",
    "\n",
    "# Save the DataFrame to a new CSV file\n",
    "df.to_csv('assets/playoffs-2016.csv', index=False)\n",
    "\n",
    "print(\"New CSV file created successfully with 'Year' as the first column filled with '2016'.\")"
   ]
  },
  {
   "cell_type": "code",
   "execution_count": 19,
   "metadata": {},
   "outputs": [
    {
     "name": "stdout",
     "output_type": "stream",
     "text": [
      "New CSV file created successfully with 'Year' as the first column filled with '2015'.\n"
     ]
    }
   ],
   "source": [
    "import pandas as pd\n",
    "from io import StringIO\n",
    "\n",
    "# Define the CSV data as a string\n",
    "csv_data = \"\"\"Rk,Team,GP,W,L,T,OW,OL,W-L%,G,GA,DIFF\n",
    "1,Pittsburgh Penguins,24,16,8,0,4,3,.667,73,55,18\n",
    "2,San Jose Sharks,24,14,10,0,1,4,.583,75,56,19\n",
    "3,Tampa Bay Lightning,17,11,6,0,3,1,.647,48,40,8\n",
    "4,St. Louis Blues,20,10,10,0,2,2,.500,57,56,1\n",
    "5,Dallas Stars,13,7,6,0,1,2,.538,35,42,-7\n",
    "6,Nashville Predators,14,7,7,0,2,0,.500,31,43,-12\n",
    "7,Washington Capitals,12,6,6,0,1,2,.500,29,22,7\n",
    "8,New York Islanders,11,5,6,0,3,2,.455,26,32,-6\n",
    "9,Chicago Blackhawks,7,3,4,0,1,1,.429,20,19,1\n",
    "10,Anaheim Ducks,7,3,4,0,0,0,.429,18,14,4\n",
    "11,Minnesota Wild,6,2,4,0,1,0,.333,17,21,-4\n",
    "12,Florida Panthers,6,2,4,0,0,3,.333,14,15,-1\n",
    "13,Philadelphia Flyers,6,2,4,0,0,0,.333,6,14,-8\n",
    "14,New York Rangers,5,1,4,0,0,0,.200,10,21,-11\n",
    "15,Detroit Red Wings,5,1,4,0,0,0,.200,8,12,-4\n",
    "16,Los Angeles Kings,5,1,4,0,1,0,.200,11,16,-5\n",
    ",League Average,11.4,5.7,5.7,0.0,1.7,1.7,.500,29.9,29.9,0\"\"\"\n",
    "\n",
    "# Use StringIO to treat the string as a file\n",
    "csv_file_like = StringIO(csv_data)\n",
    "\n",
    "# Read the CSV data into a pandas DataFrame\n",
    "df = pd.read_csv(csv_file_like)\n",
    "\n",
    "# Add the 'Year' column as the first column, and fill it with a specific year, e.g., 2019\n",
    "df.insert(0, 'Year', 2015)\n",
    "\n",
    "# Save the DataFrame to a new CSV file\n",
    "df.to_csv('assets/playoffs-2015.csv', index=False)\n",
    "\n",
    "print(\"New CSV file created successfully with 'Year' as the first column filled with '2015'.\")"
   ]
  },
  {
   "cell_type": "code",
   "execution_count": 20,
   "metadata": {},
   "outputs": [
    {
     "name": "stdout",
     "output_type": "stream",
     "text": [
      "New CSV file created successfully with 'Year' as the first column filled with '2014'.\n"
     ]
    }
   ],
   "source": [
    "import pandas as pd\n",
    "from io import StringIO\n",
    "\n",
    "# Define the CSV data as a string\n",
    "csv_data = \"\"\"Rk,Team,GP,W,L,T,OW,OL,W-L%,G,GA,DIFF\n",
    "1,Chicago Blackhawks,23,16,7,0,4,1,.696,69,60,9\n",
    "2,Tampa Bay Lightning,26,14,12,0,3,0,.538,65,62,3\n",
    "3,Anaheim Ducks,16,11,5,0,3,3,.688,57,42,15\n",
    "4,New York Rangers,19,11,8,0,4,1,.579,45,41,4\n",
    "5,Washington Capitals,14,7,7,0,1,3,.500,28,28,0\n",
    "6,Montreal Canadiens,12,6,6,0,2,1,.500,25,29,-4\n",
    "7,Calgary Flames,11,5,6,0,1,1,.455,27,33,-6\n",
    "8,Minnesota Wild,10,4,6,0,0,0,.400,24,27,-3\n",
    "9,New York Islanders,7,3,4,0,1,1,.429,15,16,-1\n",
    "10,Detroit Red Wings,7,3,4,0,0,1,.429,15,17,-2\n",
    "11,Ottawa Senators,6,2,4,0,0,2,.333,12,12,0\n",
    "12,Nashville Predators,6,2,4,0,0,2,.333,21,19,2\n",
    "13,Vancouver Canucks,6,2,4,0,0,0,.333,14,18,-4\n",
    "14,St. Louis Blues,6,2,4,0,0,0,.333,14,17,-3\n",
    "15,Pittsburgh Penguins,5,1,4,0,0,2,.200,8,11,-3\n",
    "16,Winnipeg Jets,4,0,4,0,0,1,.000,9,16,-7\n",
    ",League Average,11.1,5.6,5.6,0.0,1.5,1.5,.500,28.0,28.0,0\"\"\"\n",
    "\n",
    "# Use StringIO to treat the string as a file\n",
    "csv_file_like = StringIO(csv_data)\n",
    "\n",
    "# Read the CSV data into a pandas DataFrame\n",
    "df = pd.read_csv(csv_file_like)\n",
    "\n",
    "# Add the 'Year' column as the first column, and fill it with a specific year, e.g., 2019\n",
    "df.insert(0, 'Year', 2014)\n",
    "\n",
    "# Save the DataFrame to a new CSV file\n",
    "df.to_csv('assets/playoffs-2014.csv', index=False)\n",
    "\n",
    "print(\"New CSV file created successfully with 'Year' as the first column filled with '2014'.\")"
   ]
  },
  {
   "cell_type": "code",
   "execution_count": 21,
   "metadata": {},
   "outputs": [
    {
     "name": "stdout",
     "output_type": "stream",
     "text": [
      "New CSV file created successfully with 'Year' as the first column filled with '2014'.\n"
     ]
    }
   ],
   "source": [
    "import pandas as pd\n",
    "from io import StringIO\n",
    "\n",
    "# Define the CSV data as a string\n",
    "csv_data = \"\"\"Rk,Team,GP,W,L,T,OW,OL,W-L%,G,GA,DIFF\n",
    "1,Los Angeles Kings,26,16,10,0,5,2,.615,88,70,18\n",
    "2,New York Rangers,25,13,12,0,2,4,.520,64,60,4\n",
    "3,Chicago Blackhawks,19,11,8,0,4,3,.579,58,55,3\n",
    "4,Montreal Canadiens,17,10,7,0,3,2,.588,51,46,5\n",
    "5,Boston Bruins,12,7,5,0,2,1,.583,30,26,4\n",
    "6,Anaheim Ducks,13,7,6,0,1,1,.538,35,37,-2\n",
    "7,Pittsburgh Penguins,13,7,6,0,0,3,.538,35,33,2\n",
    "8,Minnesota Wild,13,6,7,0,2,3,.462,35,35,0\n",
    "9,Colorado Avalanche,7,3,4,0,2,2,.429,20,22,-2\n",
    "10,Philadelphia Flyers,7,3,4,0,0,0,.429,16,19,-3\n",
    "11,San Jose Sharks,7,3,4,0,1,0,.429,22,26,-4\n",
    "12,Dallas Stars,6,2,4,0,0,1,.333,18,20,-2\n",
    "13,Columbus Blue Jackets,6,2,4,0,2,0,.333,18,21,-3\n",
    "14,St. Louis Blues,6,2,4,0,2,2,.333,14,20,-6\n",
    "15,Detroit Red Wings,5,1,4,0,0,1,.200,6,14,-8\n",
    "16,Tampa Bay Lightning,4,0,4,0,0,1,.000,10,16,-6\n",
    ",League Average,11.6,5.8,5.8,0.0,1.7,1.7,.500,32.5,32.5,0\"\"\"\n",
    "\n",
    "# Use StringIO to treat the string as a file\n",
    "csv_file_like = StringIO(csv_data)\n",
    "\n",
    "# Read the CSV data into a pandas DataFrame\n",
    "df = pd.read_csv(csv_file_like)\n",
    "\n",
    "# Add the 'Year' column as the first column, and fill it with a specific year, e.g., 2019\n",
    "df.insert(0, 'Year', 2013)\n",
    "\n",
    "# Save the DataFrame to a new CSV file\n",
    "df.to_csv('assets/playoffs-2013.csv', index=False)\n",
    "\n",
    "print(\"New CSV file created successfully with 'Year' as the first column filled with '2014'.\")"
   ]
  },
  {
   "cell_type": "code",
   "execution_count": 22,
   "metadata": {},
   "outputs": [
    {
     "name": "stdout",
     "output_type": "stream",
     "text": [
      "New CSV file created successfully with 'Year' as the first column filled with '2014'.\n"
     ]
    }
   ],
   "source": [
    "import pandas as pd\n",
    "from io import StringIO\n",
    "\n",
    "# Define the CSV data as a string\n",
    "csv_data = \"\"\"Rk,Team,GP,W,L,T,OW,OL,W-L%,G,GA,DIFF\n",
    "1,Chicago Blackhawks,23,16,7,0,5,2,.696,64,48,16\n",
    "2,Boston Bruins,22,14,8,0,5,3,.636,65,47,18\n",
    "3,Los Angeles Kings,18,9,9,0,1,3,.500,37,34,3\n",
    "4,Pittsburgh Penguins,15,8,7,0,2,2,.533,49,40,9\n",
    "5,San Jose Sharks,11,7,4,0,3,0,.636,25,22,3\n",
    "6,Detroit Red Wings,14,7,7,0,3,2,.500,33,37,-4\n",
    "7,Ottawa Senators,10,5,5,0,2,0,.500,31,31,0\n",
    "8,New York Rangers,12,5,7,0,1,3,.417,26,28,-2\n",
    "9,Anaheim Ducks,7,3,4,0,1,3,.429,21,18,3\n",
    "10,Toronto Maple Leafs,7,3,4,0,0,2,.429,18,22,-4\n",
    "11,Washington Capitals,7,3,4,0,2,0,.429,12,16,-4\n",
    "12,St. Louis Blues,6,2,4,0,1,1,.333,10,12,-2\n",
    "13,New York Islanders,6,2,4,0,0,2,.333,17,25,-8\n",
    "14,Minnesota Wild,5,1,4,0,1,1,.200,7,17,-10\n",
    "15,Montreal Canadiens,5,1,4,0,0,1,.200,9,20,-11\n",
    "16,Vancouver Canucks,4,0,4,0,0,2,.000,8,15,-7\n",
    ",League Average,10.8,5.4,5.4,0.0,1.7,1.7,.500,27.0,27.0,0\"\"\"\n",
    "\n",
    "# Use StringIO to treat the string as a file\n",
    "csv_file_like = StringIO(csv_data)\n",
    "\n",
    "# Read the CSV data into a pandas DataFrame\n",
    "df = pd.read_csv(csv_file_like)\n",
    "\n",
    "# Add the 'Year' column as the first column, and fill it with a specific year, e.g., 2019\n",
    "df.insert(0, 'Year', 2012)\n",
    "\n",
    "# Save the DataFrame to a new CSV file\n",
    "df.to_csv('assets/playoffs-2012.csv', index=False)\n",
    "\n",
    "print(\"New CSV file created successfully with 'Year' as the first column filled with '2014'.\")"
   ]
  },
  {
   "cell_type": "code",
   "execution_count": 23,
   "metadata": {},
   "outputs": [
    {
     "name": "stdout",
     "output_type": "stream",
     "text": [
      "New CSV file created successfully with 'Year' as the first column filled with '2014'.\n"
     ]
    }
   ],
   "source": [
    "import pandas as pd\n",
    "from io import StringIO\n",
    "\n",
    "# Define the CSV data as a string\n",
    "csv_data = \"\"\"Rk,Team,GP,W,L,T,OW,OL,W-L%,G,GA,DIFF\n",
    "1,Los Angeles Kings,20,16,4,0,4,0,.800,57,30,27\n",
    "2,New Jersey Devils,24,14,10,0,4,3,.583,59,58,1\n",
    "3,New York Rangers,20,10,10,0,2,3,.500,43,41,2\n",
    "4,Phoenix Coyotes,16,9,7,0,4,3,.563,37,35,2\n",
    "5,Washington Capitals,14,7,7,0,2,4,.500,29,30,-1\n",
    "6,Nashville Predators,10,5,5,0,0,1,.500,22,21,1\n",
    "7,Philadelphia Flyers,11,5,6,0,2,1,.455,41,44,-3\n",
    "8,St. Louis Blues,9,4,5,0,0,1,.444,20,23,-3\n",
    "9,Boston Bruins,7,3,4,0,2,2,.429,15,16,-1\n",
    "10,Ottawa Senators,7,3,4,0,2,0,.429,13,14,-1\n",
    "11,Florida Panthers,7,3,4,0,0,2,.429,17,18,-1\n",
    "12,Pittsburgh Penguins,6,2,4,0,0,1,.333,26,30,-4\n",
    "13,Chicago Blackhawks,6,2,4,0,2,3,.333,12,17,-5\n",
    "14,Detroit Red Wings,5,1,4,0,0,0,.200,9,13,-4\n",
    "15,Vancouver Canucks,5,1,4,0,0,1,.200,8,12,-4\n",
    "16,San Jose Sharks,5,1,4,0,1,0,.200,8,14,-6\n",
    ",League Average,10.8,5.4,5.4,0.0,1.7,1.7,.500,26.0,26.0,0\"\"\"\n",
    "\n",
    "# Use StringIO to treat the string as a file\n",
    "csv_file_like = StringIO(csv_data)\n",
    "\n",
    "# Read the CSV data into a pandas DataFrame\n",
    "df = pd.read_csv(csv_file_like)\n",
    "\n",
    "# Add the 'Year' column as the first column, and fill it with a specific year, e.g., 2019\n",
    "df.insert(0, 'Year', 2011)\n",
    "\n",
    "# Save the DataFrame to a new CSV file\n",
    "df.to_csv('assets/playoffs-2011.csv', index=False)\n",
    "\n",
    "print(\"New CSV file created successfully with 'Year' as the first column filled with '2014'.\")"
   ]
  },
  {
   "cell_type": "code",
   "execution_count": 24,
   "metadata": {},
   "outputs": [
    {
     "name": "stdout",
     "output_type": "stream",
     "text": [
      "New CSV file created successfully with 'Year' as the first column filled with '2010'.\n"
     ]
    }
   ],
   "source": [
    "import pandas as pd\n",
    "from io import StringIO\n",
    "\n",
    "# Define the CSV data as a string\n",
    "csv_data = \"\"\"Rk,Team,GP,W,L,T,OW,OL,W-L%,G,GA,DIFF\n",
    "1,Boston Bruins,25,16,9,0,4,1,.640,81,53,28\n",
    "2,Vancouver Canucks,25,15,10,0,4,2,.600,58,69,-11\n",
    "3,Tampa Bay Lightning,18,11,7,0,1,1,.611,59,45,14\n",
    "4,San Jose Sharks,18,9,9,0,5,1,.500,51,58,-7\n",
    "5,Detroit Red Wings,11,7,4,0,0,2,.636,36,28,8\n",
    "6,Nashville Predators,12,6,6,0,2,1,.500,33,34,-1\n",
    "7,Washington Capitals,9,4,5,0,2,1,.444,23,24,-1\n",
    "8,Philadelphia Flyers,11,4,7,0,1,2,.364,29,38,-9\n",
    "9,Pittsburgh Penguins,7,3,4,0,1,0,.429,14,22,-8\n",
    "10,Chicago Blackhawks,7,3,4,0,1,1,.429,22,16,6\n",
    "11,Montreal Canadiens,7,3,4,0,0,3,.429,17,17,0\n",
    "12,Buffalo Sabres,7,3,4,0,1,1,.429,18,22,-4\n",
    "13,Anaheim Ducks,6,2,4,0,0,1,.333,20,22,-2\n",
    "14,Los Angeles Kings,6,2,4,0,0,3,.333,20,20,0\n",
    "15,New York Rangers,5,1,4,0,0,2,.200,8,13,-5\n",
    "16,Phoenix Coyotes,4,0,4,0,0,0,.000,10,18,-8\n",
    ",League Average,11.1,5.6,5.6,0.0,1.5,1.5,.500,31.2,31.2,0\"\"\"\n",
    "\n",
    "# Use StringIO to treat the string as a file\n",
    "csv_file_like = StringIO(csv_data)\n",
    "\n",
    "# Read the CSV data into a pandas DataFrame\n",
    "df = pd.read_csv(csv_file_like)\n",
    "\n",
    "# Add the 'Year' column as the first column, and fill it with a specific year, e.g., 2019\n",
    "df.insert(0, 'Year', 2010)\n",
    "\n",
    "# Save the DataFrame to a new CSV file\n",
    "df.to_csv('assets/playoffs-2010.csv', index=False)\n",
    "\n",
    "print(\"New CSV file created successfully with 'Year' as the first column filled with '2010'.\")"
   ]
  },
  {
   "cell_type": "code",
   "execution_count": 25,
   "metadata": {},
   "outputs": [
    {
     "name": "stdout",
     "output_type": "stream",
     "text": [
      "New CSV file created successfully with 'Year' as the first column filled with '2009'.\n"
     ]
    }
   ],
   "source": [
    "import pandas as pd\n",
    "from io import StringIO\n",
    "\n",
    "# Define the CSV data as a string\n",
    "csv_data = \"\"\"Rk,Team,GP,W,L,T,OW,OL,W-L%,G,GA,DIFF\n",
    "1,Chicago Blackhawks,22,16,6,0,3,1,.727,78,62,16\n",
    "2,Philadelphia Flyers,23,14,9,0,3,2,.609,76,61,15\n",
    "3,Montreal Canadiens,19,9,10,0,1,1,.474,46,57,-11\n",
    "4,San Jose Sharks,15,8,7,0,3,2,.533,41,41,0\n",
    "5,Pittsburgh Penguins,13,7,6,0,1,1,.538,42,38,4\n",
    "6,Boston Bruins,13,7,6,0,2,1,.538,36,37,-1\n",
    "7,Vancouver Canucks,12,6,6,0,1,1,.500,43,41,2\n",
    "8,Detroit Red Wings,12,5,7,0,0,1,.417,43,33,10\n",
    "9,Phoenix Coyotes,7,3,4,0,0,0,.429,18,26,-8\n",
    "10,Washington Capitals,7,3,4,0,1,1,.429,22,20,2\n",
    "11,Ottawa Senators,6,2,4,0,1,1,.333,19,24,-5\n",
    "12,Colorado Avalanche,6,2,4,0,1,2,.333,11,19,-8\n",
    "13,Buffalo Sabres,6,2,4,0,0,1,.333,15,16,-1\n",
    "14,Los Angeles Kings,6,2,4,0,1,1,.333,18,25,-7\n",
    "15,Nashville Predators,6,2,4,0,0,1,.333,15,17,-2\n",
    "16,New Jersey Devils,5,1,4,0,0,1,.200,9,15,-6\n",
    ",League Average,11.1,5.6,5.6,0.0,1.2,1.2,.500,33.3,33.3,0\"\"\"\n",
    "\n",
    "# Use StringIO to treat the string as a file\n",
    "csv_file_like = StringIO(csv_data)\n",
    "\n",
    "# Read the CSV data into a pandas DataFrame\n",
    "df = pd.read_csv(csv_file_like)\n",
    "\n",
    "# Add the 'Year' column as the first column, and fill it with a specific year, e.g., 2019\n",
    "df.insert(0, 'Year', 2009)\n",
    "\n",
    "# Save the DataFrame to a new CSV file\n",
    "df.to_csv('assets/playoffs-2009.csv', index=False)\n",
    "\n",
    "print(\"New CSV file created successfully with 'Year' as the first column filled with '2009'.\")"
   ]
  },
  {
   "cell_type": "code",
   "execution_count": 3,
   "metadata": {},
   "outputs": [
    {
     "name": "stdout",
     "output_type": "stream",
     "text": [
      "New CSV file created successfully with 'Season' as the first column filled with '2005'.\n"
     ]
    }
   ],
   "source": [
    "## USE AS TEMPLATE!!!!\n",
    "\n",
    "import pandas as pd\n",
    "from io import StringIO\n",
    "\n",
    "# Define the year as a variable\n",
    "year = 2005\n",
    "\n",
    "# Define the CSV data as a string\n",
    "csv_data = \"\"\"\n",
    "Rk,Team,GP,W,L,T,OW,OL,W-L%,G,GA,DIFF\n",
    "1,Carolina Hurricanes,25,16,9,0,4,3,.640,73,60,13\n",
    "2,Edmonton Oilers,24,15,9,0,3,1,.625,70,61,9\n",
    "3,Buffalo Sabres,18,11,7,0,5,1,.611,60,49,11\n",
    "4,Mighty Ducks of Anaheim,16,9,7,0,2,1,.563,46,36,10\n",
    "5,San Jose Sharks,11,6,5,0,0,1,.545,29,29,0\n",
    "6,New Jersey Devils,9,5,4,0,0,1,.556,27,21,6\n",
    "7,Ottawa Senators,10,5,5,0,0,3,.500,36,29,7\n",
    "8,Colorado Avalanche,9,4,5,0,3,1,.444,22,31,-9\n",
    "9,Calgary Flames,7,3,4,0,1,1,.429,16,17,-1\n",
    "10,Detroit Red Wings,6,2,4,0,1,1,.333,17,19,-2\n",
    "11,Philadelphia Flyers,6,2,4,0,0,1,.333,14,27,-13\n",
    "12,Montreal Canadiens,6,2,4,0,1,2,.333,17,15,2\n",
    "13,Nashville Predators,5,1,4,0,0,0,.200,10,17,-7\n",
    "14,Tampa Bay Lightning,5,1,4,0,0,0,.200,13,23,-10\n",
    "15,Dallas Stars,5,1,4,0,0,3,.200,15,18,-3\n",
    "16,New York Rangers,4,0,4,0,0,0,.000,4,17,-13\n",
    ",League Average,10.4,5.2,5.2,0.0,1.5,1.5,.500,29.3,29.3,0\n",
    "\"\"\" \n",
    "\n",
    "# Use StringIO to treat the string as a file\n",
    "csv_file_like = StringIO(csv_data)\n",
    "\n",
    "# Read the CSV data into a pandas DataFrame\n",
    "df = pd.read_csv(csv_file_like)\n",
    "\n",
    "# Add the 'Season' column as the first column, and fill it with the defined year\n",
    "df.insert(0, 'Season', year)\n",
    "\n",
    "# Save the DataFrame to a new CSV file\n",
    "output_file = f'assets/playoffs-{year}.csv'\n",
    "df.to_csv(output_file, index=False)\n",
    "\n",
    "print(f\"New CSV file created successfully with 'Season' as the first column filled with '{year}'.\")"
   ]
  },
  {
   "cell_type": "code",
   "execution_count": 27,
   "metadata": {},
   "outputs": [
    {
     "name": "stdout",
     "output_type": "stream",
     "text": [
      "     Season    Rk Team                 Full   GP    W    L    T   OW   OL  \\\n",
      "8      2008   9.0  NJD    New Jersey Devils  7.0  3.0  4.0  0.0  1.0  1.0   \n",
      "9      2008  10.0  NYR     New York Rangers  7.0  3.0  4.0  0.0  0.0  0.0   \n",
      "10     2008  11.0  PHI  Philadelphia Flyers  6.0  2.0  4.0  0.0  0.0  1.0   \n",
      "11     2008  12.0  CGY       Calgary Flames  6.0  2.0  4.0  0.0  0.0  1.0   \n",
      "12     2008  13.0  SJS      San Jose Sharks  6.0  2.0  4.0  0.0  1.0  0.0   \n",
      "..      ...   ...  ...                  ...  ...  ...  ...  ...  ...  ...   \n",
      "274    2023  12.0  NYI   New York Islanders  5.0  1.0  4.0  0.0  1.0  0.0   \n",
      "275    2023  13.0  TBL  Tampa Bay Lightning  5.0  1.0  4.0  0.0  0.0  1.0   \n",
      "276    2023  14.0  WPG        Winnipeg Jets  5.0  1.0  4.0  0.0  0.0  0.0   \n",
      "277    2023  15.0  LAK    Los Angeles Kings  5.0  1.0  4.0  0.0  1.0  0.0   \n",
      "278    2023  16.0  WSH  Washington Capitals  4.0  0.0  4.0  0.0  0.0  0.0   \n",
      "\n",
      "      W-L%     G    GA  DIFF  \n",
      "8    0.429  15.0  17.0    -2  \n",
      "9    0.429  11.0  19.0    -8  \n",
      "10   0.333  16.0  18.0    -2  \n",
      "11   0.333  16.0  21.0    -5  \n",
      "12   0.333  10.0  18.0    -8  \n",
      "..     ...   ...   ...   ...  \n",
      "274  0.200  12.0  19.0    -7  \n",
      "275  0.200  14.0  20.0    -6  \n",
      "276  0.200  15.0  28.0   -13  \n",
      "277  0.200  13.0  22.0    -9  \n",
      "278  0.000   7.0  15.0    -8  \n",
      "\n",
      "[128 rows x 14 columns]\n",
      "Filtered rows saved to 'assets/playoffs_first_round_exit.csv'.\n"
     ]
    }
   ],
   "source": [
    "import pandas as pd\n",
    "\n",
    "# Load the data from 'assets/playoffs-all_updated.csv'\n",
    "df = pd.read_csv('assets/playoffs-all_updated.csv')\n",
    "\n",
    "# Filter rows where 'GP' is less than or equal to 7\n",
    "filtered_df = df[df['GP'] <= 7]\n",
    "\n",
    "# Display the filtered DataFrame\n",
    "print(filtered_df)\n",
    "\n",
    "# Optionally, save the filtered DataFrame to a new CSV file\n",
    "filtered_df.to_csv('assets/playoffs_first_round_exit.csv', index=False)\n",
    "\n",
    "print(\"Filtered rows saved to 'assets/playoffs_first_round_exit.csv'.\")"
   ]
  },
  {
   "cell_type": "code",
   "execution_count": 31,
   "metadata": {},
   "outputs": [
    {
     "name": "stdout",
     "output_type": "stream",
     "text": [
      "This is a list of teams who cannot get out of the first round of the playoffs.\n",
      "                    Full_Team  Count\n",
      "1     Toronto Maple Leafs TOR      8\n",
      "2          Minnesota Wild MIN      8\n",
      "3     Pittsburgh Penguins PIT      7\n",
      "4       Los Angeles Kings LAK      7\n",
      "5     Nashville Predators NSH      7\n",
      "6     Washington Capitals WSH      6\n",
      "7        New York Rangers NYR      5\n",
      "8           Winnipeg Jets WPG      5\n",
      "9         St. Louis Blues STL      5\n",
      "10      Detroit Red Wings DET      4\n",
      "11       Florida Panthers FLA      4\n",
      "12          Boston Bruins BOS      4\n",
      "13          Anaheim Ducks ANA      4\n",
      "14     Chicago Blackhawks CHI      4\n",
      "15     Colorado Avalanche COL      4\n",
      "16    Tampa Bay Lightning TBL      4\n",
      "17  Columbus Blue Jackets CBJ      4\n",
      "18     Montreal Canadiens MTL      4\n",
      "19        San Jose Sharks SJS      4\n",
      "20    Philadelphia Flyers PHI      4\n",
      "21     New York Islanders NYI      4\n",
      "22      New Jersey Devils NJD      3\n",
      "23      Vancouver Canucks VAN      3\n",
      "24        Ottawa Senators OTT      3\n",
      "25         Calgary Flames CGY      3\n",
      "26         Buffalo Sabres BUF      2\n",
      "27           Dallas Stars DAL      2\n",
      "28   Vegas Golden Knights VGK      2\n",
      "29        Edmonton Oilers EDM      2\n"
     ]
    }
   ],
   "source": [
    "import pandas as pd\n",
    "\n",
    "# Load the data from 'assets/playoffs_first_round_exit.csv'\n",
    "df = pd.read_csv('assets/playoffs_first_round_exit.csv')\n",
    "\n",
    "# Create a new column that combines 'Full' and 'Team'\n",
    "df['Full_Team'] = df['Full'] + ' ' + df['Team']\n",
    "\n",
    "# Group by 'Full_Team' and count the occurrences\n",
    "full_team_counts = df['Full_Team'].value_counts().reset_index()\n",
    "\n",
    "# Rename the columns for clarity\n",
    "full_team_counts.columns = ['Full_Team', 'Count']\n",
    "\n",
    "# Reset the index to start from 1 instead of 0\n",
    "full_team_counts.index = full_team_counts.index + 1\n",
    "\n",
    "# Display the list\n",
    "print(\"This is a list of teams who cannot get out of the first round of the playoffs.\")\n",
    "print(full_team_counts)"
   ]
  },
  {
   "cell_type": "code",
   "execution_count": 32,
   "metadata": {},
   "outputs": [
    {
     "name": "stdout",
     "output_type": "stream",
     "text": [
      "The team 'MIN' appears 8 times in the 'Team' column.\n"
     ]
    }
   ],
   "source": [
    "import pandas as pd\n",
    "\n",
    "# Load the data from 'assets/playoffs_first_round_exit.csv'\n",
    "df = pd.read_csv('assets/playoffs_first_round_exit.csv')\n",
    "\n",
    "# Count the occurrences of 'MIN' in the 'Team' column\n",
    "min_count = df['Team'].value_counts().get('MIN', 0)\n",
    "\n",
    "# Display the result\n",
    "print(f\"The team 'MIN' appears {min_count} times in the 'Team' column.\")"
   ]
  },
  {
   "cell_type": "code",
   "execution_count": 3,
   "metadata": {},
   "outputs": [
    {
     "ename": "NameError",
     "evalue": "name 'runner_up_teams_df' is not defined",
     "output_type": "error",
     "traceback": [
      "\u001b[0;31m---------------------------------------------------------------------------\u001b[0m",
      "\u001b[0;31mNameError\u001b[0m                                 Traceback (most recent call last)",
      "Cell \u001b[0;32mIn[3], line 12\u001b[0m\n\u001b[1;32m      9\u001b[0m runner_up_teams \u001b[38;5;241m=\u001b[39m df[df[\u001b[38;5;124m'\u001b[39m\u001b[38;5;124mRk\u001b[39m\u001b[38;5;124m'\u001b[39m]\u001b[38;5;241m.\u001b[39misin([\u001b[38;5;124m'\u001b[39m\u001b[38;5;124m2.0\u001b[39m\u001b[38;5;124m'\u001b[39m, \u001b[38;5;124m'\u001b[39m\u001b[38;5;124m2\u001b[39m\u001b[38;5;124m'\u001b[39m])]\n\u001b[1;32m     11\u001b[0m \u001b[38;5;66;03m# Optionally, save the filtered DataFrame to a new CSV file\u001b[39;00m\n\u001b[0;32m---> 12\u001b[0m \u001b[43mrunner_up_teams_df\u001b[49m\u001b[38;5;241m.\u001b[39mto_csv(\u001b[38;5;124m'\u001b[39m\u001b[38;5;124massets/playoffs_runner_up.csv\u001b[39m\u001b[38;5;124m'\u001b[39m, index\u001b[38;5;241m=\u001b[39m\u001b[38;5;28;01mFalse\u001b[39;00m)\n\u001b[1;32m     14\u001b[0m \u001b[38;5;66;03m# Step 3: Print the filtered results\u001b[39;00m\n\u001b[1;32m     15\u001b[0m \u001b[38;5;28mprint\u001b[39m(runner_up_teams)\n",
      "\u001b[0;31mNameError\u001b[0m: name 'runner_up_teams_df' is not defined"
     ]
    }
   ],
   "source": [
    "import pandas as pd\n",
    "\n",
    "# Step 1: Load the 'assets/playoffs-all_updated.csv' file\n",
    "df = pd.read_csv('assets/playoffs-all_updated.csv')\n",
    "\n",
    "# Step 2: Filter rows where the 'Rk' column is '2.0' or '2'\n",
    "# Convert the column to string first to ensure proper matching\n",
    "df['Rk'] = df['Rk'].astype(str)\n",
    "runner_up_teams = df[df['Rk'].isin(['2.0', '2'])]\n",
    "\n",
    "# Optionally, save the filtered DataFrame to a new CSV file\n",
    "runner_up_teams_df.to_csv('assets/playoffs_runner_up.csv', index=False)\n",
    "\n",
    "# Step 3: Print the filtered results\n",
    "print(runner_up_teams)"
   ]
  },
  {
   "cell_type": "code",
   "execution_count": 5,
   "metadata": {},
   "outputs": [
    {
     "name": "stdout",
     "output_type": "stream",
     "text": [
      "     Season   Rk Team                  Full    GP     W     L    T   OW   OL  \\\n",
      "1      2008  2.0  DET     Detroit Red Wings  23.0  15.0   8.0  0.0  2.0  2.0   \n",
      "18     2009  2.0  PHI   Philadelphia Flyers  23.0  14.0   9.0  0.0  3.0  2.0   \n",
      "35     2010  2.0  VAN     Vancouver Canucks  25.0  15.0  10.0  0.0  4.0  2.0   \n",
      "52     2011  2.0  NJD     New Jersey Devils  24.0  14.0  10.0  0.0  4.0  3.0   \n",
      "69     2012  2.0  BOS         Boston Bruins  22.0  14.0   8.0  0.0  5.0  3.0   \n",
      "86     2013  2.0  NYR      New York Rangers  25.0  13.0  12.0  0.0  2.0  4.0   \n",
      "103    2014  2.0  TBL   Tampa Bay Lightning  26.0  14.0  12.0  0.0  3.0  0.0   \n",
      "120    2015  2.0  SJS       San Jose Sharks  24.0  14.0  10.0  0.0  1.0  4.0   \n",
      "137    2016  2.0  NSH   Nashville Predators  22.0  14.0   8.0  0.0  2.0  1.0   \n",
      "154    2017  2.0  VGK  Vegas Golden Knights  20.0  13.0   7.0  0.0  2.0  1.0   \n",
      "171    2018  2.0  BOS         Boston Bruins  24.0  15.0   9.0  0.0  1.0  2.0   \n",
      "188    2019  2.0  DAL          Dallas Stars  27.0  15.0  12.0  0.0  6.0  1.0   \n",
      "213    2020  2.0  MTL    Montreal Canadiens  22.0  13.0   9.0  0.0  6.0  1.0   \n",
      "230    2021  2.0  TBL   Tampa Bay Lightning  23.0  14.0   9.0  0.0  1.0  2.0   \n",
      "247    2022  2.0  FLA      Florida Panthers  21.0  13.0   8.0  0.0  7.0  0.0   \n",
      "264    2023  2.0  EDM       Edmonton Oilers  25.0  15.0  10.0  0.0  2.0  1.0   \n",
      "\n",
      "      W-L%     G    GA  DIFF  \n",
      "1    0.652  76.0  48.0    28  \n",
      "18   0.609  76.0  61.0    15  \n",
      "35   0.600  58.0  69.0   -11  \n",
      "52   0.583  59.0  58.0     1  \n",
      "69   0.636  65.0  47.0    18  \n",
      "86   0.520  64.0  60.0     4  \n",
      "103  0.538  65.0  62.0     3  \n",
      "120  0.583  75.0  56.0    19  \n",
      "137  0.636  60.0  48.0    12  \n",
      "154  0.650  57.0  47.0    10  \n",
      "171  0.625  79.0  51.0    28  \n",
      "188  0.556  78.0  82.0    -4  \n",
      "213  0.591  51.0  54.0    -3  \n",
      "230  0.609  67.0  61.0     6  \n",
      "247  0.619  62.0  69.0    -7  \n",
      "264  0.600  86.0  65.0    21  \n",
      "The filtered data has been saved to 'assets/playoffs_runner_up.csv'.\n",
      "     Season   Rk Team                  Full    GP     W     L    T   OW   OL  \\\n",
      "1      2008  2.0  DET     Detroit Red Wings  23.0  15.0   8.0  0.0  2.0  2.0   \n",
      "18     2009  2.0  PHI   Philadelphia Flyers  23.0  14.0   9.0  0.0  3.0  2.0   \n",
      "35     2010  2.0  VAN     Vancouver Canucks  25.0  15.0  10.0  0.0  4.0  2.0   \n",
      "52     2011  2.0  NJD     New Jersey Devils  24.0  14.0  10.0  0.0  4.0  3.0   \n",
      "69     2012  2.0  BOS         Boston Bruins  22.0  14.0   8.0  0.0  5.0  3.0   \n",
      "86     2013  2.0  NYR      New York Rangers  25.0  13.0  12.0  0.0  2.0  4.0   \n",
      "103    2014  2.0  TBL   Tampa Bay Lightning  26.0  14.0  12.0  0.0  3.0  0.0   \n",
      "120    2015  2.0  SJS       San Jose Sharks  24.0  14.0  10.0  0.0  1.0  4.0   \n",
      "137    2016  2.0  NSH   Nashville Predators  22.0  14.0   8.0  0.0  2.0  1.0   \n",
      "154    2017  2.0  VGK  Vegas Golden Knights  20.0  13.0   7.0  0.0  2.0  1.0   \n",
      "171    2018  2.0  BOS         Boston Bruins  24.0  15.0   9.0  0.0  1.0  2.0   \n",
      "188    2019  2.0  DAL          Dallas Stars  27.0  15.0  12.0  0.0  6.0  1.0   \n",
      "213    2020  2.0  MTL    Montreal Canadiens  22.0  13.0   9.0  0.0  6.0  1.0   \n",
      "230    2021  2.0  TBL   Tampa Bay Lightning  23.0  14.0   9.0  0.0  1.0  2.0   \n",
      "247    2022  2.0  FLA      Florida Panthers  21.0  13.0   8.0  0.0  7.0  0.0   \n",
      "264    2023  2.0  EDM       Edmonton Oilers  25.0  15.0  10.0  0.0  2.0  1.0   \n",
      "\n",
      "      W-L%     G    GA  DIFF  \n",
      "1    0.652  76.0  48.0    28  \n",
      "18   0.609  76.0  61.0    15  \n",
      "35   0.600  58.0  69.0   -11  \n",
      "52   0.583  59.0  58.0     1  \n",
      "69   0.636  65.0  47.0    18  \n",
      "86   0.520  64.0  60.0     4  \n",
      "103  0.538  65.0  62.0     3  \n",
      "120  0.583  75.0  56.0    19  \n",
      "137  0.636  60.0  48.0    12  \n",
      "154  0.650  57.0  47.0    10  \n",
      "171  0.625  79.0  51.0    28  \n",
      "188  0.556  78.0  82.0    -4  \n",
      "213  0.591  51.0  54.0    -3  \n",
      "230  0.609  67.0  61.0     6  \n",
      "247  0.619  62.0  69.0    -7  \n",
      "264  0.600  86.0  65.0    21  \n"
     ]
    }
   ],
   "source": [
    "import pandas as pd\n",
    "\n",
    "# Step 1: Load the CSV file\n",
    "df = pd.read_csv('assets/playoffs-all_updated.csv')\n",
    "\n",
    "# Step 2: Filter the DataFrame for rows where 'Rk' is either 2.0 or 2\n",
    "runner_up_df = df[(df['Rk'] == 2.0) | (df['Rk'] == 2)]\n",
    "\n",
    "# Step 3: Print the filtered results\n",
    "print(runner_up_df)\n",
    "\n",
    "# Step 4: Save the filtered DataFrame to a new CSV file\n",
    "runner_up_df.to_csv('assets/playoffs_runner_up.csv', index=False)\n",
    "\n",
    "# Print confirmation\n",
    "print(\"The filtered data has been saved to 'assets/playoffs_runner_up.csv'.\")\n",
    "# Step 3: Print the filtered results\n",
    "print(runner_up_teams)"
   ]
  },
  {
   "cell_type": "code",
   "execution_count": 5,
   "metadata": {},
   "outputs": [
    {
     "name": "stdout",
     "output_type": "stream",
     "text": [
      "Merged 3 files into 'assets/playoffs_merged.csv'.\n"
     ]
    }
   ],
   "source": [
    "## merging 2005-2008 files\n",
    "\n",
    "import pandas as pd\n",
    "import glob\n",
    "\n",
    "# Define the path pattern for the CSV files\n",
    "file_pattern = 'assets/playoffs-2*.csv'\n",
    "\n",
    "# Use glob to get all file paths matching the pattern\n",
    "file_list = glob.glob(file_pattern)\n",
    "\n",
    "# Read and concatenate all CSV files\n",
    "df_list = [pd.read_csv(file) for file in file_list]\n",
    "merged_df = pd.concat(df_list, ignore_index=True)\n",
    "\n",
    "# Save the merged DataFrame to a new CSV file\n",
    "merged_df.to_csv('assets/playoffs_merged.csv', index=False)\n",
    "\n",
    "print(f\"Merged {len(file_list)} files into 'assets/playoffs_merged.csv'.\")"
   ]
  },
  {
   "cell_type": "code",
   "execution_count": 6,
   "metadata": {},
   "outputs": [
    {
     "name": "stdout",
     "output_type": "stream",
     "text": [
      "New CSV file created successfully as 'assets/playoffs_merged_updated.csv'.\n"
     ]
    }
   ],
   "source": [
    "import pandas as pd\n",
    "\n",
    "# Load the data from 'assets/playoffs_merged.csv'\n",
    "asset1_df = pd.read_csv('assets/playoffs_merged.csv')\n",
    "\n",
    "# Insert a new column 'Team1' as the third column (index 2)\n",
    "asset1_df.insert(2, 'Team1', '')\n",
    "\n",
    "# Rename the column 'Team' to 'Full' and 'Team1' to 'Team'\n",
    "asset1_df.rename(columns={'Team': 'Full', 'Team1': 'Team'}, inplace=True)\n",
    "\n",
    "# Load the team abbreviations data from 'assets/nhl_teams_abbreviations.csv'\n",
    "abbreviations_df = pd.read_csv('assets/nhl_teams_abbreviations.csv')\n",
    "\n",
    "# Create a dictionary from 'Full' to 'Abbreviation'\n",
    "abbreviation_dict = pd.Series(abbreviations_df.Abbreviation.values, index=abbreviations_df.Team).to_dict()\n",
    "\n",
    "# Map the 'Full' column to the 'Team' column using the abbreviation dictionary\n",
    "asset1_df['Team'] = asset1_df['Full'].map(abbreviation_dict)\n",
    "\n",
    "# Save the updated DataFrame to a new CSV file\n",
    "asset1_df.to_csv('assets/playoffs_merged_updated.csv', index=False)\n",
    "\n",
    "print(\"New CSV file created successfully as 'assets/playoffs_merged_updated.csv'.\")"
   ]
  },
  {
   "cell_type": "code",
   "execution_count": 7,
   "metadata": {},
   "outputs": [
    {
     "name": "stdout",
     "output_type": "stream",
     "text": [
      "Asset1 Columns: ['Season', 'Rk', 'Team', 'Full', 'GP', 'W', 'L', 'T', 'OW', 'OL', 'W-L%', 'G', 'GA', 'DIFF']\n",
      "Asset2 Columns: ['Season', 'Rk', 'Team', 'Full', 'GP', 'W', 'L', 'T', 'OW', 'OL', 'W-L%', 'G', 'GA', 'DIFF']\n",
      "Combined DataFrame after removing duplicates:\n",
      "     Season    Rk Team                 Full    GP     W    L    T   OW   OL  \\\n",
      "0      2007   1.0  DET    Detroit Red Wings  22.0  16.0  6.0  0.0  1.0  1.0   \n",
      "1      2007   2.0  PIT  Pittsburgh Penguins  20.0  14.0  6.0  0.0  2.0  0.0   \n",
      "2      2007   3.0  DAL         Dallas Stars  18.0  10.0  8.0  0.0  3.0  1.0   \n",
      "3      2007   4.0  PHI  Philadelphia Flyers  17.0   9.0  8.0  0.0  2.0  1.0   \n",
      "4      2007   5.0  SJS      San Jose Sharks  13.0   6.0  7.0  0.0  1.0  3.0   \n",
      "..      ...   ...  ...                  ...   ...   ...  ...  ...  ...  ...   \n",
      "326    2023  13.0  TBL  Tampa Bay Lightning   5.0   1.0  4.0  0.0  0.0  1.0   \n",
      "327    2023  14.0  WPG        Winnipeg Jets   5.0   1.0  4.0  0.0  0.0  0.0   \n",
      "328    2023  15.0  LAK    Los Angeles Kings   5.0   1.0  4.0  0.0  1.0  0.0   \n",
      "329    2023  16.0  WSH  Washington Capitals   4.0   0.0  4.0  0.0  0.0  0.0   \n",
      "330    2023   NaN  NaN       League Average  11.0   5.5  5.5  0.0  1.1  1.1   \n",
      "\n",
      "      W-L%     G    GA  DIFF  \n",
      "0    0.727  72.0  41.0    31  \n",
      "1    0.700  61.0  43.0    18  \n",
      "2    0.556  45.0  41.0     4  \n",
      "3    0.529  52.0  54.0    -2  \n",
      "4    0.462  30.0  32.0    -2  \n",
      "..     ...   ...   ...   ...  \n",
      "326  0.200  14.0  20.0    -6  \n",
      "327  0.200  15.0  28.0   -13  \n",
      "328  0.200  13.0  22.0    -9  \n",
      "329  0.000   7.0  15.0    -8  \n",
      "330  0.500  31.5  31.5     0  \n",
      "\n",
      "[330 rows x 14 columns]\n",
      "Combined DataFrame saved as 'assets/playoffs_complete.csv'.\n"
     ]
    }
   ],
   "source": [
    "import pandas as pd\n",
    "\n",
    "# Load the data from the CSV files\n",
    "asset1 = pd.read_csv('assets/playoffs_merged_updated.csv')\n",
    "asset2 = pd.read_csv('assets/playoffs-all_updated.csv')\n",
    "\n",
    "# Ensure both DataFrames have matching headings by renaming columns in asset2 to match asset1\n",
    "asset2.columns = asset1.columns\n",
    "\n",
    "# Print the headers to ensure they match\n",
    "print(\"Asset1 Columns:\", asset1.columns.tolist())\n",
    "print(\"Asset2 Columns:\", asset2.columns.tolist())\n",
    "\n",
    "# Concatenate the two DataFrames\n",
    "combined_df = pd.concat([asset1, asset2], ignore_index=True)\n",
    "\n",
    "# Drop duplicate rows based on 'Season' and 'Team'\n",
    "combined_df.drop_duplicates(subset=['Season', 'Team'], keep='first', inplace=True)\n",
    "\n",
    "# Print the result to verify\n",
    "print(\"Combined DataFrame after removing duplicates:\")\n",
    "print(combined_df)\n",
    "\n",
    "# Optionally, save the combined DataFrame to a new CSV file\n",
    "combined_df.to_csv('assets/playoffs_complete.csv', index=False)\n",
    "\n",
    "print(\"Combined DataFrame saved as 'assets/playoffs_complete.csv'.\")"
   ]
  },
  {
   "cell_type": "code",
   "execution_count": 8,
   "metadata": {},
   "outputs": [
    {
     "name": "stdout",
     "output_type": "stream",
     "text": [
      "File 'assets/playoffs_complete.csv' has been sorted and saved.\n"
     ]
    }
   ],
   "source": [
    "import pandas as pd\n",
    "\n",
    "# Load the data from 'assets/playoffs_complete.csv'\n",
    "asset1 = pd.read_csv('assets/playoffs_complete.csv')\n",
    "\n",
    "# Sort the DataFrame by 'Season' descending and 'Rk' ascending\n",
    "asset1_sorted = asset1.sort_values(by=['Season', 'Rk'], ascending=[False, True])\n",
    "\n",
    "# Save the sorted DataFrame back to the same file\n",
    "asset1_sorted.to_csv('assets/playoffs_complete.csv', index=False)\n",
    "\n",
    "print(\"File 'assets/playoffs_complete.csv' has been sorted and saved.\")"
   ]
  },
  {
   "cell_type": "code",
   "execution_count": 9,
   "metadata": {},
   "outputs": [
    {
     "name": "stdout",
     "output_type": "stream",
     "text": [
      "File 'assets/playoffs_complete.csv' has been updated with the 'Playoff' column and saved.\n"
     ]
    }
   ],
   "source": [
    "import pandas as pd\n",
    "\n",
    "# Load the data from 'assets/playoffs_complete.csv'\n",
    "asset1 = pd.read_csv('assets/playoffs_complete.csv')\n",
    "\n",
    "# Add the 'Playoff' column as the second column with 'Season' + 1\n",
    "asset1.insert(1, 'Playoff', asset1['Season'] + 1)\n",
    "\n",
    "# Save the updated DataFrame back to the same file\n",
    "asset1.to_csv('assets/playoffs_complete.csv', index=False)\n",
    "\n",
    "print(\"File 'assets/playoffs_complete.csv' has been updated with the 'Playoff' column and saved.\")"
   ]
  }
 ],
 "metadata": {
  "kernelspec": {
   "display_name": "myenv",
   "language": "python",
   "name": "python3"
  },
  "language_info": {
   "codemirror_mode": {
    "name": "ipython",
    "version": 3
   },
   "file_extension": ".py",
   "mimetype": "text/x-python",
   "name": "python",
   "nbconvert_exporter": "python",
   "pygments_lexer": "ipython3",
   "version": "3.9.6"
  }
 },
 "nbformat": 4,
 "nbformat_minor": 2
}
