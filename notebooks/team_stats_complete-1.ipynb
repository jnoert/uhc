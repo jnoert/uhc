{
 "cells": [
  {
   "cell_type": "markdown",
   "metadata": {},
   "source": [
    "## Merge two \"all teams season stats per year\" docs"
   ]
  },
  {
   "cell_type": "code",
   "execution_count": 1,
   "metadata": {},
   "outputs": [
    {
     "name": "stdout",
     "output_type": "stream",
     "text": [
      "The files have been merged and saved as 'assets/team_stats_agg.csv'.\n"
     ]
    }
   ],
   "source": [
    "import pandas as pd\n",
    "\n",
    "# Step 1: Define the file paths\n",
    "asset1 = 'assets/teams-merged_all.csv'\n",
    "asset2 = 'assets/nhldotcom/teamstats.csv'\n",
    "output_file = 'assets/team_stats_agg.csv'\n",
    "\n",
    "# Step 2: Load the CSV files\n",
    "df1 = pd.read_csv(asset1)\n",
    "df2 = pd.read_csv(asset2)\n",
    "\n",
    "# Step 3: Merge the DataFrames on 'team' and 'season' columns\n",
    "merged_df = pd.merge(df1, df2, on=['team', 'season'], how='outer')\n",
    "\n",
    "# Step 4: Save the merged DataFrame to the new CSV file\n",
    "merged_df.to_csv(output_file, index=False)\n",
    "\n",
    "# Print confirmation\n",
    "print(f\"The files have been merged and saved as '{output_file}'.\")\n",
    "\n",
    "### THIS CODE MERGED INTO THE 'WRONG' DF and included removable data. Next Code block fixes this."
   ]
  },
  {
   "cell_type": "code",
   "execution_count": 2,
   "metadata": {},
   "outputs": [
    {
     "name": "stdout",
     "output_type": "stream",
     "text": [
      "The files have been merged and saved as 'assets/team_stats_agg.csv'.\n"
     ]
    }
   ],
   "source": [
    "import pandas as pd\n",
    "\n",
    "# Define the file paths\n",
    "asset1 = 'assets/nhldotcom/teamstats.csv'\n",
    "asset2 = 'assets/teams-merged_all.csv'\n",
    "output_file = 'assets/team_stats_agg.csv'\n",
    "\n",
    "# Step 1: Load the CSV files\n",
    "df1 = pd.read_csv(asset1)\n",
    "df2 = pd.read_csv(asset2)\n",
    "\n",
    "# Step 2: Drop the unwanted columns ('name' and 'team.1') from df2\n",
    "df2 = df2.drop(columns=['name', 'team.1'], errors='ignore')\n",
    "\n",
    "# Step 3: Merge the DataFrames on 'team' and 'season' columns\n",
    "merged_df = pd.merge(df1, df2, on=['team', 'season'], how='outer')\n",
    "\n",
    "# Step 4: Save the merged DataFrame to a new CSV file\n",
    "merged_df.to_csv(output_file, index=False)\n",
    "\n",
    "# Print confirmation\n",
    "print(f\"The files have been merged and saved as '{output_file}'.\")\n",
    "\n",
    "## Notced issues with the data from 'assets/nhldotcom/teamstats.csv'. Following code fixes those."
   ]
  },
  {
   "cell_type": "code",
   "execution_count": 3,
   "metadata": {},
   "outputs": [
    {
     "name": "stdout",
     "output_type": "stream",
     "text": [
      "The file has been updated and saved as 'assets/nhldotcom/teamstats_fixed.csv'.\n"
     ]
    }
   ],
   "source": [
    "import pandas as pd\n",
    "\n",
    "# Step 1: Load the CSV file\n",
    "file_path = 'assets/nhldotcom/teamstats.csv'\n",
    "df = pd.read_csv(file_path)\n",
    "\n",
    "# Step 2: Update the 'team' column based on the 'full' column\n",
    "df.loc[df['full'] == 'Atlanta Thrashers', 'team'] = 'ATL'\n",
    "df.loc[df['full'] == 'Montréal Canadiens', 'team'] = 'MTL'\n",
    "df.loc[df['full'] == 'Phoenix Coyotes', 'team'] = 'ARI'\n",
    "\n",
    "# Step 3: Save the updated DataFrame to a new CSV file\n",
    "output_file = 'assets/nhldotcom/teamstats_fixed.csv'\n",
    "df.to_csv(output_file, index=False)\n",
    "\n",
    "# Print confirmation\n",
    "print(f\"The file has been updated and saved as '{output_file}'.\")"
   ]
  },
  {
   "cell_type": "code",
   "execution_count": 5,
   "metadata": {},
   "outputs": [
    {
     "name": "stdout",
     "output_type": "stream",
     "text": [
      "The files have been merged and saved as 'assets/team_stats_agg.csv'.\n"
     ]
    }
   ],
   "source": [
    "## same objective as two blocks above but with adjusted asset path\n",
    "\n",
    "import pandas as pd\n",
    "\n",
    "# Define the file paths\n",
    "asset1 = 'assets/nhldotcom/teamstats_fixed.csv'\n",
    "asset2 = 'assets/teams-merged_all.csv'\n",
    "output_file = 'assets/team_stats_agg.csv'\n",
    "\n",
    "# Step 1: Load the CSV files\n",
    "df1 = pd.read_csv(asset1)\n",
    "df2 = pd.read_csv(asset2)\n",
    "\n",
    "# Step 2: Drop the unwanted columns ('name' and 'team.1') from df2\n",
    "df2 = df2.drop(columns=['name', 'team.1'], errors='ignore')\n",
    "\n",
    "# Step 3: Merge the DataFrames on 'team' and 'season' columns\n",
    "merged_df = pd.merge(df1, df2, on=['team', 'season'], how='outer')\n",
    "\n",
    "# Step 4: Save the merged DataFrame to a new CSV file\n",
    "merged_df.to_csv(output_file, index=False)\n",
    "\n",
    "# Print confirmation\n",
    "print(f\"The files have been merged and saved as '{output_file}'.\")\n"
   ]
  },
  {
   "cell_type": "code",
   "execution_count": 7,
   "metadata": {},
   "outputs": [
    {
     "name": "stdout",
     "output_type": "stream",
     "text": [
      "The file has been updated and saved to 'assets/playoffs-all_updated.csv'.\n"
     ]
    }
   ],
   "source": [
    "## Next I want to fix some data in the /assets/playoffs-all_updated.csv file\n",
    "\n",
    "import pandas as pd\n",
    "\n",
    "# Step 1: Load the CSV file\n",
    "file_path = 'assets/playoffs-all_updated.csv'\n",
    "df = pd.read_csv(file_path)\n",
    "\n",
    "# Step 2: Update the 'Team' column where 'Full' is 'Phoenix Coyotes'\n",
    "df.loc[df['Full'] == 'Phoenix Coyotes', 'Team'] = 'ARI'\n",
    "\n",
    "# Step 3: Save the updated DataFrame back to the same file path\n",
    "df.to_csv(file_path, index=False)\n",
    "\n",
    "# Print confirmation\n",
    "print(f\"The file has been updated and saved to '{file_path}'.\")"
   ]
  },
  {
   "cell_type": "code",
   "execution_count": 10,
   "metadata": {},
   "outputs": [
    {
     "name": "stdout",
     "output_type": "stream",
     "text": [
      "File 'assets/team_stats_complete_wip.csv' has been created with the 'rk' column added.\n"
     ]
    }
   ],
   "source": [
    "import pandas as pd\n",
    "\n",
    "# Load the data from the CSV files\n",
    "asset1 = pd.read_csv('assets/team_stats_agg.csv')\n",
    "asset2 = pd.read_csv('assets/playoffs_complete.csv')\n",
    "\n",
    "# Merge Asset1 with Asset2 on 'team' and 'season' to get the 'Rk' values\n",
    "merged_df = pd.merge(asset1, asset2[['Team', 'Season', 'Rk']], how='left', left_on=['team', 'season'], right_on=['Team', 'Season'])\n",
    "\n",
    "# Add the 'rk' column as the fourth column (index 3), and fill missing 'Rk' with 32.0\n",
    "merged_df.insert(3, 'rk', merged_df['Rk'].fillna(32.0))\n",
    "\n",
    "# Drop the extra 'Team' and 'Season' columns that were brought in from Asset2\n",
    "merged_df.drop(columns=['Team', 'Season', 'Rk'], inplace=True)\n",
    "\n",
    "# Save the updated DataFrame to 'assets/team_stats_complete_wip.csv'\n",
    "merged_df.to_csv('assets/team_stats_complete_wip.csv', index=False)\n",
    "\n",
    "print(\"File 'assets/team_stats_complete_wip.csv' has been created with the 'rk' column added.\")"
   ]
  },
  {
   "cell_type": "code",
   "execution_count": 11,
   "metadata": {},
   "outputs": [
    {
     "name": "stdout",
     "output_type": "stream",
     "text": [
      "Columns 'position', 'situation', and 'games_played' have been removed and the file has been updated.\n"
     ]
    }
   ],
   "source": [
    "import pandas as pd\n",
    "\n",
    "# Load the data from 'assets/team_stats_complete_wip.csv'\n",
    "asset1 = pd.read_csv('assets/team_stats_complete_wip.csv')\n",
    "\n",
    "# Remove the specified columns\n",
    "asset1 = asset1.drop(columns=['position', 'situation', 'games_played'])\n",
    "\n",
    "# Save the updated DataFrame back to the same file\n",
    "asset1.to_csv('assets/team_stats_complete_wip.csv', index=False)\n",
    "\n",
    "print(\"Columns 'position', 'situation', and 'games_played' have been removed and the file has been updated.\")"
   ]
  }
 ],
 "metadata": {
  "kernelspec": {
   "display_name": "myenv",
   "language": "python",
   "name": "python3"
  },
  "language_info": {
   "codemirror_mode": {
    "name": "ipython",
    "version": 3
   },
   "file_extension": ".py",
   "mimetype": "text/x-python",
   "name": "python",
   "nbconvert_exporter": "python",
   "pygments_lexer": "ipython3",
   "version": "3.9.6"
  }
 },
 "nbformat": 4,
 "nbformat_minor": 2
}
