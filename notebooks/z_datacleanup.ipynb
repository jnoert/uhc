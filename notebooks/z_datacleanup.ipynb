{
 "cells": [
  {
   "cell_type": "markdown",
   "metadata": {},
   "source": [
    "For data cleanup"
   ]
  },
  {
   "cell_type": "code",
   "execution_count": 3,
   "metadata": {},
   "outputs": [
    {
     "name": "stdout",
     "output_type": "stream",
     "text": [
      "   playerId          name position team   birthDate  weight  height  \\\n",
      "0   8478421    A.J. Greer        L  CGY  1996-12-14   210.0   6' 3\"   \n",
      "1   8477180    Aaron Dell        G  SJS  1989-05-04   205.0   6' 0\"   \n",
      "2   8465992  Aaron Downey        R  DET  1974-08-27   215.0   6' 1\"   \n",
      "3   8477932  Aaron Ekblad        D  FLA  1996-02-07   220.0   6' 4\"   \n",
      "4   8471451  Aaron Gagnon        C  WPG  1986-04-24   186.0  5' 11\"   \n",
      "\n",
      "  nationality shootsCatches  primaryNumber primaryPosition  \n",
      "0         CAN             L           24.0               L  \n",
      "1         CAN             L           30.0               G  \n",
      "2         CAN             R           44.0               R  \n",
      "3         CAN             R            5.0               D  \n",
      "4         CAN             R           21.0               C  \n"
     ]
    }
   ],
   "source": [
    "# 'assets/allplayerslookup.csv'\n",
    "import pandas as pd\n",
    "\n",
    "# Load the CSV file into a DataFrame\n",
    "df = pd.read_csv('asssets/allPlayersLookup.csv')\n",
    "\n",
    "# Display the first few rows to get an overview of the data\n",
    "print(df.head())"
   ]
  },
  {
   "cell_type": "code",
   "execution_count": 4,
   "metadata": {},
   "outputs": [
    {
     "name": "stdout",
     "output_type": "stream",
     "text": [
      "playerId             0\n",
      "name                 0\n",
      "position             0\n",
      "team                 0\n",
      "birthDate          178\n",
      "weight             178\n",
      "height             178\n",
      "nationality        178\n",
      "shootsCatches      178\n",
      "primaryNumber      178\n",
      "primaryPosition    178\n",
      "dtype: int64\n"
     ]
    }
   ],
   "source": [
    "# 'assets/allplayerslookup.csv'\n",
    "import pandas as pd\n",
    "\n",
    "# Load the CSV file into a DataFrame\n",
    "df = pd.read_csv('asssets/allPlayersLookup.csv')\n",
    "\n",
    "print(df.isnull().sum())"
   ]
  },
  {
   "cell_type": "code",
   "execution_count": 5,
   "metadata": {},
   "outputs": [
    {
     "name": "stdout",
     "output_type": "stream",
     "text": [
      "           playerId       weight  primaryNumber\n",
      "count  3.154000e+03  2976.000000    2976.000000\n",
      "mean   8.474693e+06   199.036626      37.265121\n",
      "std    5.916258e+03    16.117979      23.640571\n",
      "min    8.445550e+06   140.000000       1.000000\n",
      "25%    8.471274e+06   188.000000      19.000000\n",
      "50%    8.475756e+06   198.000000      33.000000\n",
      "75%    8.478890e+06   210.000000      52.000000\n",
      "max    8.484911e+06   265.000000      98.000000\n"
     ]
    }
   ],
   "source": [
    "# 'assets/allplayerslookup.csv'\n",
    "import pandas as pd\n",
    "\n",
    "# Load the CSV file into a DataFrame\n",
    "df = pd.read_csv('asssets/allPlayersLookup.csv')\n",
    "\n",
    "print(df.describe())"
   ]
  }
 ],
 "metadata": {
  "kernelspec": {
   "display_name": "myenv",
   "language": "python",
   "name": "python3"
  },
  "language_info": {
   "codemirror_mode": {
    "name": "ipython",
    "version": 3
   },
   "file_extension": ".py",
   "mimetype": "text/x-python",
   "name": "python",
   "nbconvert_exporter": "python",
   "pygments_lexer": "ipython3",
   "version": "3.9.6"
  }
 },
 "nbformat": 4,
 "nbformat_minor": 2
}
