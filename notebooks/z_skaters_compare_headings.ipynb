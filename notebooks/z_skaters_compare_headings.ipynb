{
 "cells": [
  {
   "cell_type": "code",
   "execution_count": 1,
   "metadata": {},
   "outputs": [
    {
     "name": "stdout",
     "output_type": "stream",
     "text": [
      "Common headers between the two assets:\n",
      "{'season'}\n",
      "\n",
      "Headers unique to Asset1 (quanthockey_reg_merged.csv):\n",
      "{'Overall NHL Stats_Pos', 'Assists_OTA', 'Points_PPP%', 'per 60 Power-Play_PPG/60', 'per Game_G/GP', 'Defensive_BS', 'Unnamed: 0_level_0_Rk', 'Faceoffs_FO%', 'per 60 All Situations_A/60', 'Time on Ice_ES', 'Unnamed: 1_level_0_Name', 'Goals_PPG', 'Assists_SHA', 'Overall NHL Stats_A', 'Overall NHL Stats_Team', 'Time on Ice_SH', 'per 60 Even-Strength_ESA/60', 'Points_GWP', 'per 60 All Situations_P/60', 'Overall NHL Stats_P', 'Overall NHL Stats_+/-', 'per 60 Power-Play_PPP/60', 'Assists_ESA', 'per 60 Even-Strength_ESP/60', 'per Game_A/GP', 'Goals_SHG', 'Assists_PPA', 'per 60 All Situations_G/60', 'Assists_GWA', 'Time on Ice_PP', 'Goals_GWG', 'Faceoffs_FOW', 'Overall NHL Stats_Age', 'Overall NHL Stats_GP', 'Overall NHL Stats_PIM', 'Points_OTP', 'Defensive_HITS', 'Shots_SH%', 'Time on Ice_TOI', 'per 60 Power-Play_PPA/60', 'Shots_SHOTS', 'per Game_P/GP', 'Goals_OTG', 'Points_SHP', 'per 60 Even-Strength_ESG/60', 'Faceoffs_FOL', 'Overall NHL Stats_G', 'Goals_ESG', 'Points_ESP', 'Points_PPP'}\n",
      "\n",
      "Headers unique to Asset2 (skaters-merged.csv):\n",
      "{'onIce_corsiPercentage', 'OffIce_A_xGoals', 'OnIce_F_xGoals_with_earned_rebounds_scoreAdjusted', 'OffIce_A_shotAttempts', 'offIce_fenwickPercentage', 'I_F_dZoneGiveaways', 'OnIce_F_xGoalsFromActualReboundsOfShots', 'I_F_dZoneShiftStarts', 'I_F_xFreeze', 'I_F_highDangerxGoals', 'OnIce_A_flurryAdjustedxGoals', 'OnIce_F_flurryAdjustedxGoals', 'OnIce_A_blockedShotAttempts', 'I_F_savedShotsOnGoal', 'OnIce_A_xGoals_with_earned_rebounds_scoreFlurryAdjusted', 'I_F_xPlayContinuedInZone', 'OnIce_A_xGoalsFromActualReboundsOfShots', 'xGoalsAgainstAfterShifts', 'I_F_xOnGoal', 'OnIce_F_highDangerShots', 'OnIce_A_lowDangerShots', 'OnIce_A_xGoals_with_earned_rebounds_scoreAdjusted', 'OnIce_A_highDangerxGoals', 'I_F_penalityMinutes', 'OnIce_F_scoreVenueAdjustedxGoals', 'I_F_xGoals_with_earned_rebounds', 'I_F_flyShiftEnds', 'I_F_oZoneShiftEnds', 'I_F_neutralZoneShiftStarts', 'I_F_xPlayContinuedOutsideZone', 'I_F_highDangerShots', 'OnIce_F_xGoals_with_earned_rebounds_scoreFlurryAdjusted', 'I_F_neutralZoneShiftEnds', 'I_F_blockedShotAttempts', 'I_F_flyShiftStarts', 'OnIce_F_reboundxGoals', 'I_F_xPlayStopped', 'OnIce_A_mediumDangerxGoals', 'I_F_savedUnblockedShotAttempts', 'I_F_giveaways', 'OnIce_A_lowDangerxGoals', 'faceoffsLost', 'OnIce_A_missedShots', 'OnIce_A_xGoalsFromxReboundsOfShots', 'OnIce_A_shotAttempts', 'OnIce_A_lowDangerGoals', 'OnIce_F_goals', 'OffIce_F_xGoals', 'I_F_xGoalsFromxReboundsOfShots', 'team', 'OnIce_A_mediumDangerGoals', 'OnIce_F_scoreAdjustedShotsAttempts', 'I_F_flurryAdjustedxGoals', 'I_F_freeze', 'OnIce_F_missedShots', 'I_F_shifts', 'I_F_reboundGoals', 'I_F_unblockedShotAttempts', 'OnIce_F_reboundGoals', 'I_F_scoreAdjustedShotsAttempts', 'OnIce_F_lowDangerShots', 'I_F_lowDangerxGoals', 'I_F_faceOffsWon', 'I_F_scoreAdjustedUnblockedShotAttempts', 'I_F_xGoals_with_earned_rebounds_scoreAdjusted', 'OnIce_F_xOnGoal', 'situation', 'OnIce_F_blockedShotAttempts', 'OnIce_A_highDangerGoals', 'OnIce_F_xGoals', 'I_F_xGoals', 'OnIce_F_scoreAdjustedUnblockedShotAttempts', 'I_F_lowDangerGoals', 'gameScore', 'I_F_xGoals_with_earned_rebounds_scoreFlurryAdjusted', 'shotsBlockedByPlayer', 'OnIce_F_highDangerGoals', 'I_F_mediumDangerxGoals', 'OnIce_A_scoreAdjustedUnblockedShotAttempts', 'corsiAgainstAfterShifts', 'OnIce_A_reboundxGoals', 'I_F_hits', 'OnIce_F_lowDangerGoals', 'OnIce_F_unblockedShotAttempts', 'OnIce_A_scoreAdjustedShotsAttempts', 'OnIce_A_shotsOnGoal', 'I_F_primaryAssists', 'OnIce_F_rebounds', 'OffIce_F_shotAttempts', 'icetime', 'I_F_mediumDangerShots', 'OnIce_A_mediumDangerShots', 'OnIce_A_reboundGoals', 'I_F_secondaryAssists', 'I_F_shotAttempts', 'OnIce_F_xGoalsFromxReboundsOfShots', 'OnIce_A_xGoals', 'I_F_highDangerGoals', 'I_F_flurryScoreVenueAdjustedxGoals', 'penalityMinutesDrawn', 'I_F_scoreVenueAdjustedxGoals', 'onIce_fenwickPercentage', 'I_F_reboundxGoals', 'faceoffsWon', 'OnIce_F_mediumDangerShots', 'playerId', 'OnIce_F_lowDangerxGoals', 'name', 'OnIce_F_xGoals_with_earned_rebounds', 'I_F_lowDangerShots', 'OnIce_F_mediumDangerxGoals', 'I_F_missedShots', 'I_F_playStopped', 'penalityMinutes', 'xGoalsForAfterShifts', 'I_F_shotsOnGoal', 'I_F_mediumDangerGoals', 'OnIce_F_shotsOnGoal', 'I_F_points', 'OnIce_F_mediumDangerGoals', 'OnIce_A_goals', 'I_F_playContinuedInZone', 'iceTimeRank', 'offIce_xGoalsPercentage', 'I_F_playContinuedOutsideZone', 'I_F_xGoalsFromActualReboundsOfShots', 'onIce_xGoalsPercentage', 'timeOnBench', 'shifts', 'I_F_takeaways', 'penaltiesDrawn', 'I_F_rebounds', 'fenwickForAfterShifts', 'corsiForAfterShifts', 'I_F_dZoneShiftEnds', 'offIce_corsiPercentage', 'I_F_oZoneShiftStarts', 'position', 'OnIce_A_rebounds', 'penalties', 'I_F_xRebounds', 'OnIce_A_highDangerShots', 'OnIce_F_highDangerxGoals', 'OnIce_F_flurryScoreVenueAdjustedxGoals', 'fenwickAgainstAfterShifts', 'OnIce_A_xGoals_with_earned_rebounds', 'games_played', 'OnIce_A_xOnGoal', 'OnIce_F_shotAttempts', 'OnIce_A_flurryScoreVenueAdjustedxGoals', 'I_F_goals', 'OnIce_A_unblockedShotAttempts', 'OnIce_A_scoreVenueAdjustedxGoals'}\n"
     ]
    }
   ],
   "source": [
    "import pandas as pd\n",
    "\n",
    "# Step 1: Load the CSV files\n",
    "asset1 = pd.read_csv('assets/quanthockey/quanthockey_reg_merged.csv')\n",
    "asset2 = pd.read_csv('assets/skaters-merged.csv')\n",
    "\n",
    "# Step 2: Get the headers (column names) from both files\n",
    "headers_asset1 = set(asset1.columns)\n",
    "headers_asset2 = set(asset2.columns)\n",
    "\n",
    "# Step 3: Find the overlap (common headers) between the two files\n",
    "common_headers = headers_asset1.intersection(headers_asset2)\n",
    "\n",
    "# Step 4: Print the results\n",
    "print(\"Common headers between the two assets:\")\n",
    "print(common_headers)\n",
    "\n",
    "print(\"\\nHeaders unique to Asset1 (quanthockey_reg_merged.csv):\")\n",
    "print(headers_asset1 - common_headers)\n",
    "\n",
    "print(\"\\nHeaders unique to Asset2 (skaters-merged.csv):\")\n",
    "print(headers_asset2 - common_headers)"
   ]
  },
  {
   "cell_type": "code",
   "execution_count": null,
   "metadata": {},
   "outputs": [],
   "source": []
  }
 ],
 "metadata": {
  "kernelspec": {
   "display_name": "myenv",
   "language": "python",
   "name": "python3"
  },
  "language_info": {
   "codemirror_mode": {
    "name": "ipython",
    "version": 3
   },
   "file_extension": ".py",
   "mimetype": "text/x-python",
   "name": "python",
   "nbconvert_exporter": "python",
   "pygments_lexer": "ipython3",
   "version": "3.9.6"
  }
 },
 "nbformat": 4,
 "nbformat_minor": 2
}
