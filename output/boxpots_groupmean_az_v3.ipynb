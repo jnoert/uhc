{
 "cells": [
  {
   "cell_type": "code",
   "execution_count": null,
   "metadata": {},
   "outputs": [],
   "source": [
    "import pandas as pd\n",
    "import matplotlib.pyplot as plt\n",
    "\n",
    "# Load the main CSV file\n",
    "file_path = '/Users/justin/Documents/git/NHL/analysis/assets/c/team_season_complete.csv'\n",
    "df = pd.read_csv(file_path)\n",
    "\n",
    "# Load the Arizona team stats CSV file\n",
    "arizona_file_path = '/Users/justin/Documents/git/NHL/analysis/assets/c/az/team_season_complete_ARI.csv'\n",
    "df_ari = pd.read_csv(arizona_file_path)\n",
    "\n",
    "# Filter Arizona data for the 2023 season\n",
    "ari2023 = df_ari[df_ari['season'] == 2023]\n",
    "ari2022 = df_ari[df_ari['season'] == 2022]\n",
    "\n",
    "# Define the other groups based on 'rk' column\n",
    "group1 = df[df['rk'] == 1.0]  # Stanley Cup winners\n",
    "group2 = df[df['rk'] == 2.0]  # Runners-up\n",
    "group3 = df[(df['rk'] >= 3.0) & (df['rk'] <= 31.0)]  # Playoff teams\n",
    "group32 = df[df['rk'] == 32.0]  # Teams that missed the playoffs\n",
    "\n",
    "# List of groups including the new Arizona group\n",
    "groups = {'Group1': group1, 'Group2': group2, 'Group3': group3, 'Group32': group32, 'AZ 2023': ari2023, 'AZ 2022': ari2022}\n",
    "\n",
    "# Function to clean data by removing empty cells (NaNs)\n",
    "def clean_data(data):\n",
    "    return data.dropna()\n",
    "\n",
    "# Function to plot specified columns across groups\n",
    "def plot_columns_across_groups(columns_to_plot):\n",
    "    for col in columns_to_plot:\n",
    "        if col not in df.columns:\n",
    "            print(f\"Column '{col}' not found in the DataFrame. Skipping...\")\n",
    "            continue\n",
    "\n",
    "        # Clean data by removing NaNs before plotting\n",
    "        group1_clean = clean_data(group1[col])\n",
    "        group2_clean = clean_data(group2[col])\n",
    "        group3_clean = clean_data(group3[col])\n",
    "        group32_clean = clean_data(group32[col])\n",
    "        ari2023_clean = clean_data(ari2023[col])\n",
    "        ari2022_clean = clean_data(ari2022[col])\n",
    "\n",
    "        plt.figure(figsize=(6.2, 4 * 0.65))\n",
    "        plt.title(f'Comparison of {col} across Groups')\n",
    "        plt.boxplot([group1_clean, group2_clean, group3_clean, group32_clean, ari2022_clean, ari2023_clean], \n",
    "                    labels=['Champions', 'Runner-Up', 'Playoffs', 'non-Playoff', 'ARI 2022', 'ARI 2023'], notch=True)\n",
    "        plt.ylabel(col)\n",
    "        plt.show()\n",
    "\n",
    "# Example usage: specify columns to plot\n",
    "columns_to_plot = ['lowDangerGoalsAgainst','mediumDangerGoalsAgainst','highDangerGoalsAgainst','lowDangerGoalsFor','mediumDangerGoalsFor','highDangerGoalsFor', 'missedShotsFor', 'missedShotsAgainst','l', 'highDangerxGoalsAgainst', 'reboundsAgainst', 'highDangerShotsAgainst', 'dZoneGiveawaysFor','dZoneGiveawaysAgainst', 'reboundGoalsAgainst', 'reboundGoalsFor','xGoalsFromActualReboundsOfShotsAgainst', 'reboundxGoalsAgainst', 'goalsAgainst', 'ga', 'missedShotsAgainst', 'reboundsFor', 'ga/gp', 'highDangerxGoalsFor', 'highDangerShotsFor', 'scoreVenueAdjustedxGoalsAgainst', 'playContinuedInZoneAgainst', 'xGoalsAgainst', 'flurryScoreVenueAdjustedxGoalsAgainst', 'scoreAdjustedTotalShotCreditAgainst', 'playStoppedFor', 'playStoppedAgainst', 's/o win', 'ot', 'p%', 'p', 'rw', 'w', 'row', 'freezeFor', 'shots/gp', 'mediumDangerShotsFor', 'fow%', 'savedShotsOnGoalFor', 'fenwickPercentage', 'takeawaysFor', 'mediumDangerxGoalsFor']\n",
    "\n",
    "plot_columns_across_groups(columns_to_plot)"
   ]
  }
 ],
 "metadata": {
  "kernelspec": {
   "display_name": "myenv",
   "language": "python",
   "name": "python3"
  },
  "language_info": {
   "codemirror_mode": {
    "name": "ipython",
    "version": 3
   },
   "file_extension": ".py",
   "mimetype": "text/x-python",
   "name": "python",
   "nbconvert_exporter": "python",
   "pygments_lexer": "ipython3",
   "version": "3.9.6"
  }
 },
 "nbformat": 4,
 "nbformat_minor": 2
}
