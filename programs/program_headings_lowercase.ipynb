{
 "cells": [
  {
   "cell_type": "code",
   "execution_count": 1,
   "metadata": {},
   "outputs": [
    {
     "name": "stdout",
     "output_type": "stream",
     "text": [
      "All column headings have been converted to lowercase and saved back to 'assets/processing/team_playoffs_basic.csv'.\n"
     ]
    }
   ],
   "source": [
    "## Lowercase Headings\n",
    "import pandas as pd\n",
    "\n",
    "# Define the file path\n",
    "asset1 = 'assets/processing/team_playoffs_basic.csv'\n",
    "\n",
    "# Step 1: Load the CSV file\n",
    "df = pd.read_csv(asset1)\n",
    "\n",
    "# Step 2: Convert all column headings to lowercase\n",
    "df.columns = df.columns.str.lower()\n",
    "\n",
    "# Step 3: Save the updated DataFrame back to the same file\n",
    "df.to_csv(asset1, index=False)\n",
    "\n",
    "# Print confirmation\n",
    "print(f\"All column headings have been converted to lowercase and saved back to '{asset1}'.\")\n"
   ]
  }
 ],
 "metadata": {
  "kernelspec": {
   "display_name": "myenv",
   "language": "python",
   "name": "python3"
  },
  "language_info": {
   "codemirror_mode": {
    "name": "ipython",
    "version": 3
   },
   "file_extension": ".py",
   "mimetype": "text/x-python",
   "name": "python",
   "nbconvert_exporter": "python",
   "pygments_lexer": "ipython3",
   "version": "3.9.6"
  }
 },
 "nbformat": 4,
 "nbformat_minor": 2
}
