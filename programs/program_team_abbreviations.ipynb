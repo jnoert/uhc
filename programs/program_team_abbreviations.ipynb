{
 "cells": [
  {
   "cell_type": "code",
   "execution_count": 5,
   "metadata": {},
   "outputs": [
    {
     "name": "stdout",
     "output_type": "stream",
     "text": [
      "The column 'name' in assets/processing/team_playoffs_agg_advanced.csv has been updated and saved to assets/processing/team_playoffs_agg_advanced.csv.\n",
      "Number of rows updated: 145\n"
     ]
    }
   ],
   "source": [
    "import pandas as pd\n",
    "\n",
    "# YOUR VARIABLES -- BE SURE TO CHANGE\n",
    "# Define the file paths and column title\n",
    "asset2 = 'assets/processing/team_playoffs_agg_advanced.csv'  # INPUT PATH FOR FILE IN QUESTION\n",
    "ColumnTitle = 'name'  # INPUT COLUMN TITLE IN QUESTION\n",
    "\n",
    "# FIXED VARIABLES -- DO NOT CHANGE\n",
    "asset1 = 'assets/on/nhl_teams_abbreviations.csv'\n",
    "\n",
    "# Load the data from Asset1 and Asset2\n",
    "Asset1 = pd.read_csv(asset1)\n",
    "Asset2 = pd.read_csv(asset2)\n",
    "\n",
    "# Create a mapping dictionary from Asset1\n",
    "mapping_dict = pd.Series(Asset1['abbv'].values, index=Asset1['prev']).to_dict()\n",
    "\n",
    "# Save a copy of the original column to compare later\n",
    "original_column = Asset2[ColumnTitle].copy()\n",
    "\n",
    "# Replace values in Asset2[ColumnTitle] using the mapping dictionary\n",
    "Asset2[ColumnTitle] = Asset2[ColumnTitle].apply(lambda x: mapping_dict.get(x, x))\n",
    "\n",
    "# Calculate the number of rows that were updated\n",
    "rows_updated = (original_column != Asset2[ColumnTitle]).sum()\n",
    "\n",
    "# OUTPUT Save the fixed Asset2 to the same file\n",
    "output_file = f'assets/processing/{asset2.split(\"/\")[-1].split(\".\")[0]}.csv'\n",
    "Asset2.to_csv(output_file, index=False)\n",
    "\n",
    "# # OUTPUT Optionally, save the fixed Asset2 to a new file\n",
    "# output_file = f'assets/{asset2.split(\"/\")[-1].split(\".\")[0]}_abbv.csv'\n",
    "# Asset2.to_csv(output_file, index=False)\n",
    "\n",
    "print(f\"The column '{ColumnTitle}' in {asset2} has been updated and saved to {output_file}.\")\n",
    "print(f\"Number of rows updated: {rows_updated}\")"
   ]
  }
 ],
 "metadata": {
  "kernelspec": {
   "display_name": "myenv",
   "language": "python",
   "name": "python3"
  },
  "language_info": {
   "codemirror_mode": {
    "name": "ipython",
    "version": 3
   },
   "file_extension": ".py",
   "mimetype": "text/x-python",
   "name": "python",
   "nbconvert_exporter": "python",
   "pygments_lexer": "ipython3",
   "version": "3.9.6"
  }
 },
 "nbformat": 4,
 "nbformat_minor": 2
}
