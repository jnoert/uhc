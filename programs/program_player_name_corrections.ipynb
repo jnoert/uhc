{
 "cells": [
  {
   "cell_type": "markdown",
   "metadata": {},
   "source": [
    "program for fixing known innaccuracies in player names"
   ]
  },
  {
   "cell_type": "code",
   "execution_count": 21,
   "metadata": {},
   "outputs": [
    {
     "name": "stdout",
     "output_type": "stream",
     "text": [
      "Changes made:\n",
      "                      name\n",
      "2            Mike Matheson\n",
      "9              Kris Letang\n",
      "14           Zach Werenski\n",
      "36        MacKenzie Weegar\n",
      "45       Mikhail Sergachev\n",
      "...                    ...\n",
      "15514  David Van Der Gulik\n",
      "15518              DJ King\n",
      "15538         Jon Kalinski\n",
      "15582      Niclas Bergfors\n",
      "15583       Maksim Mayorov\n",
      "\n",
      "[828 rows x 1 columns]\n",
      "Number of changes made: 828\n",
      "The file 'assets/quanthockey_reg_merged.csv' has been updated with the corrections.\n"
     ]
    }
   ],
   "source": [
    "#### run name_corrections for both files pre-merge (again)\n",
    "\n",
    "import pandas as pd\n",
    "\n",
    "# Define variables\n",
    "asset1 = 'assets/on/name_corrections.csv'\n",
    "asset2 = 'assets/processing/goalies_playoffs_mp_all.csv'\n",
    "column1 = 'name'\n",
    "\n",
    "# Step 1: Load the CSV files\n",
    "corrections_df = pd.read_csv(asset1)\n",
    "target_df = pd.read_csv(asset2)\n",
    "\n",
    "# Step 2: Create a dictionary from asset1 for quick lookup\n",
    "correction_dict = dict(zip(corrections_df['incorrect'], corrections_df['correct']))\n",
    "\n",
    "# Step 3: Define a function to replace values based on the correction dictionary\n",
    "def correct_name(value):\n",
    "    return correction_dict.get(value, value)  # Replace if found in the dictionary, otherwise return the original value\n",
    "\n",
    "# Step 4: Apply the correction function to the specified column in asset2\n",
    "original_values = target_df[column1].copy()  # Keep the original values for comparison\n",
    "target_df[column1] = target_df[column1].apply(correct_name)\n",
    "\n",
    "# Step 5: Identify the changes made\n",
    "changes = target_df[column1] != original_values\n",
    "\n",
    "# Step 6: Create a DataFrame with the original and updated values\n",
    "updated_df = pd.DataFrame({\n",
    "    'Original': original_values[changes],\n",
    "    'Updated': target_df[column1][changes]\n",
    "})\n",
    "\n",
    "# Step 7: Save the updated DataFrame back to the original file\n",
    "target_df.to_csv(asset2, index=False)\n",
    "\n",
    "# Step 8: Save the original and updated values to a new CSV file\n",
    "updates_file = asset2.replace('.csv', '_name_updates.csv')\n",
    "updated_df.to_csv(updates_file, index=False)\n",
    "\n",
    "# Print confirmation\n",
    "print(f\"The file '{asset2}' has been updated with the corrections.\")\n",
    "print(f\"Original and updated values have been saved to '{updates_file}'.\")\n",
    "print(f\"Number of changes made: {len(updated_df)}\")"
   ]
  }
 ],
 "metadata": {
  "kernelspec": {
   "display_name": "myenv",
   "language": "python",
   "name": "python3"
  },
  "language_info": {
   "codemirror_mode": {
    "name": "ipython",
    "version": 3
   },
   "file_extension": ".py",
   "mimetype": "text/x-python",
   "name": "python",
   "nbconvert_exporter": "python",
   "pygments_lexer": "ipython3",
   "version": "3.9.6"
  }
 },
 "nbformat": 4,
 "nbformat_minor": 2
}
