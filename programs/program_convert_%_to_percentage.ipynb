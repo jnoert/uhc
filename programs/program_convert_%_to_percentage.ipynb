{
 "cells": [
  {
   "cell_type": "code",
   "execution_count": 1,
   "metadata": {},
   "outputs": [
    {
     "name": "stdout",
     "output_type": "stream",
     "text": [
      "All percentage values have been converted and saved back to assets/processing/skater_playoffs_quant.csv.\n"
     ]
    },
    {
     "name": "stderr",
     "output_type": "stream",
     "text": [
      "/var/folders/yp/vg1d9hyj2x1g_lgpp2b9r7_80000gn/T/ipykernel_41455/3657799377.py:15: FutureWarning: DataFrame.applymap has been deprecated. Use DataFrame.map instead.\n",
      "  df = df.applymap(convert_to_percentage)\n"
     ]
    }
   ],
   "source": [
    "import pandas as pd\n",
    "\n",
    "# Load the CSV file\n",
    "file_path = 'assets/processing/skater_playoffs_quant.csv'\n",
    "df = pd.read_csv(file_path)\n",
    "\n",
    "# Define a function to convert percentage strings to float\n",
    "def convert_to_percentage(value):\n",
    "    if isinstance(value, str) and '%' in value:\n",
    "        # Remove the '%' sign and convert the string to a float representing the percentage\n",
    "        return float(value.replace('%', '')) / 100\n",
    "    return value\n",
    "\n",
    "# Apply the conversion function to the entire DataFrame (ignoring headers)\n",
    "df = df.applymap(convert_to_percentage)\n",
    "\n",
    "# Save the updated DataFrame back to the same file\n",
    "df.to_csv(file_path, index=False)\n",
    "\n",
    "print(f\"All percentage values have been converted and saved back to {file_path}.\")\n",
    "\n",
    "### NOTE reanamed file to assets/skaters-per-season-final.csv"
   ]
  }
 ],
 "metadata": {
  "kernelspec": {
   "display_name": "myenv",
   "language": "python",
   "name": "python3"
  },
  "language_info": {
   "codemirror_mode": {
    "name": "ipython",
    "version": 3
   },
   "file_extension": ".py",
   "mimetype": "text/x-python",
   "name": "python",
   "nbconvert_exporter": "python",
   "pygments_lexer": "ipython3",
   "version": "3.9.6"
  }
 },
 "nbformat": 4,
 "nbformat_minor": 2
}
