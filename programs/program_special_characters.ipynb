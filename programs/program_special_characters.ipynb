{
 "cells": [
  {
   "cell_type": "markdown",
   "metadata": {},
   "source": [
    "PROGRAM: transform 'special characters' in player names\n",
    "\n",
    "This program requires you to install 'pip install unidecode'"
   ]
  },
  {
   "cell_type": "code",
   "execution_count": 2,
   "metadata": {},
   "outputs": [
    {
     "name": "stdout",
     "output_type": "stream",
     "text": [
      "Rows with special characters in the 'name' column have been saved to 'assets/z_unidecode-test.csv'.\n"
     ]
    }
   ],
   "source": [
    "# This code re-creates 'assets/z_unidecode-test.csv' which is full of special characters -- for testing purposes \n",
    "\n",
    "import pandas as pd\n",
    "import re\n",
    "\n",
    "# Step 1: Load the CSV file\n",
    "file_path = 'assets/quanthockey/quanthockey_reg_merged.csv'\n",
    "df = pd.read_csv(file_path)\n",
    "\n",
    "# Step 2: Define a function to check for special characters\n",
    "def contains_special_characters(name):\n",
    "    # Check if the name contains any non-ASCII characters\n",
    "    return bool(re.search(r'[^\\x00-\\x7F]', name))\n",
    "\n",
    "# Step 3: Filter the DataFrame for rows where the 'name' column contains special characters\n",
    "special_characters_df = df[df['name'].apply(contains_special_characters)]\n",
    "\n",
    "# Step 4: Save the filtered DataFrame to a new CSV file\n",
    "output_file = 'assets/z_unidecode-test.csv'\n",
    "special_characters_df.to_csv(output_file, index=False)\n",
    "\n",
    "# Print confirmation\n",
    "print(f\"Rows with special characters in the 'name' column have been saved to '{output_file}'.\")"
   ]
  },
  {
   "cell_type": "code",
   "execution_count": 3,
   "metadata": {},
   "outputs": [
    {
     "name": "stdout",
     "output_type": "stream",
     "text": [
      "Special characters in 'name' have been replaced. The file has been saved as 'assets/z_unidecode-test.csv'.\n",
      "Number of rows updated: 619\n"
     ]
    }
   ],
   "source": [
    "# This code is the program for transforming special characters into standard characters.\n",
    "# ADJUST VARIABLES to use\n",
    "\n",
    "\n",
    "import pandas as pd\n",
    "import unidecode\n",
    "\n",
    "# Define variables\n",
    "Asset1 = 'assets/processing/goalies_playoffs_quant_wip.csv'\n",
    "Column1 = 'name'\n",
    "\n",
    "# Step 1: Load the CSV file\n",
    "df = pd.read_csv(Asset1)\n",
    "\n",
    "# Step 2: Save a copy of the original column to compare later\n",
    "original_column = df[Column1].copy()\n",
    "\n",
    "# Step 3: Replace special characters in the specified column\n",
    "df[Column1] = df[Column1].apply(lambda x: unidecode.unidecode(x) if isinstance(x, str) else x)\n",
    "\n",
    "# Step 4: Calculate the rows that were updated\n",
    "changes = original_column != df[Column1]\n",
    "\n",
    "# Step 5: Create a DataFrame with original and updated values\n",
    "updated_df = pd.DataFrame({\n",
    "    'Original': original_column[changes],\n",
    "    'Updated': df[Column1][changes]\n",
    "})\n",
    "\n",
    "# OUTPUT: Save the fixed DataFrame to a new file with '_unidecod' appended\n",
    "new_file = Asset1.replace('.csv', '_unidecod.csv')\n",
    "df.to_csv(new_file, index=False)\n",
    "\n",
    "# OUTPUT: Save the updated values to a new CSV file\n",
    "updates_file = Asset1.replace('.csv', '_updates.csv')\n",
    "updated_df.to_csv(updates_file, index=False)\n",
    "\n",
    "# Print confirmation\n",
    "print(f\"Special characters in '{Column1}' have been replaced. The updated file has been saved as '{new_file}'.\")\n",
    "print(f\"Original and updated values have been saved to '{updates_file}'.\")\n",
    "print(f\"Number of rows updated: {len(updated_df)}\")"
   ]
  }
 ],
 "metadata": {
  "kernelspec": {
   "display_name": "myenv",
   "language": "python",
   "name": "python3"
  },
  "language_info": {
   "codemirror_mode": {
    "name": "ipython",
    "version": 3
   },
   "file_extension": ".py",
   "mimetype": "text/x-python",
   "name": "python",
   "nbconvert_exporter": "python",
   "pygments_lexer": "ipython3",
   "version": "3.9.6"
  }
 },
 "nbformat": 4,
 "nbformat_minor": 2
}
