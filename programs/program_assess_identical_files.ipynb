{
 "cells": [
  {
   "cell_type": "markdown",
   "metadata": {},
   "source": [
    "This program will compare two files and determine if they are identical or not."
   ]
  },
  {
   "cell_type": "code",
   "execution_count": 1,
   "metadata": {},
   "outputs": [
    {
     "name": "stdout",
     "output_type": "stream",
     "text": [
      "No unique columns in assets/quanthockey_reg_merged.csv.\n",
      "No unique columns in assets/quanthockey/quanthockey_reg_merged.csv.\n",
      "All rows overlap between the two files.\n"
     ]
    }
   ],
   "source": [
    "import pandas as pd\n",
    "\n",
    "# Define file paths\n",
    "asset1 = 'assets/quanthockey_reg_merged.csv'\n",
    "asset2 = 'assets/quanthockey/quanthockey_reg_merged.csv'\n",
    "\n",
    "# Load the two CSV files\n",
    "df1 = pd.read_csv(asset1)\n",
    "df2 = pd.read_csv(asset2)\n",
    "\n",
    "# Get the set of columns for each DataFrame\n",
    "columns_df1 = set(df1.columns)\n",
    "columns_df2 = set(df2.columns)\n",
    "\n",
    "# Find columns that are in df1 but not in df2\n",
    "columns_only_in_df1 = columns_df1 - columns_df2\n",
    "\n",
    "# Find columns that are in df2 but not in df1\n",
    "columns_only_in_df2 = columns_df2 - columns_df1\n",
    "\n",
    "# Print the results of column comparison\n",
    "if columns_only_in_df1:\n",
    "    print(f\"Columns in {asset1} but not in {asset2}:\")\n",
    "    print(columns_only_in_df1)\n",
    "else:\n",
    "    print(f\"No unique columns in {asset1}.\")\n",
    "\n",
    "if columns_only_in_df2:\n",
    "    print(f\"Columns in {asset2} but not in {asset1}:\")\n",
    "    print(columns_only_in_df2)\n",
    "else:\n",
    "    print(f\"No unique columns in {asset2}.\")\n",
    "\n",
    "# Now compare rows between the two DataFrames\n",
    "# Ensure both DataFrames have the same columns for comparison\n",
    "common_columns = list(columns_df1.intersection(columns_df2))\n",
    "df1_common = df1[common_columns]\n",
    "df2_common = df2[common_columns]\n",
    "\n",
    "# Find rows in df1 that are not in df2\n",
    "rows_only_in_df1 = pd.concat([df1_common, df2_common]).drop_duplicates(keep=False)\n",
    "\n",
    "# Find rows in df2 that are not in df1\n",
    "rows_only_in_df2 = pd.concat([df2_common, df1_common]).drop_duplicates(keep=False)\n",
    "\n",
    "# Combine the non-overlapping rows\n",
    "non_overlapping_rows = pd.concat([rows_only_in_df1, rows_only_in_df2]).drop_duplicates()\n",
    "\n",
    "# Print non-overlapping rows\n",
    "if not non_overlapping_rows.empty:\n",
    "    print(\"Rows that do not overlap between the two files:\")\n",
    "    print(non_overlapping_rows)\n",
    "else:\n",
    "    print(\"All rows overlap between the two files.\")\n",
    "\n",
    "# # Optionally, save the non-overlapping rows to a new CSV file\n",
    "# non_overlapping_rows.to_csv('assets/non_overlapping_rows.csv', index=False)\n",
    "# print(\"Non-overlapping rows have been saved to 'assets/non_overlapping_rows.csv'.\")"
   ]
  }
 ],
 "metadata": {
  "kernelspec": {
   "display_name": "myenv",
   "language": "python",
   "name": "python3"
  },
  "language_info": {
   "codemirror_mode": {
    "name": "ipython",
    "version": 3
   },
   "file_extension": ".py",
   "mimetype": "text/x-python",
   "name": "python",
   "nbconvert_exporter": "python",
   "pygments_lexer": "ipython3",
   "version": "3.9.6"
  }
 },
 "nbformat": 4,
 "nbformat_minor": 2
}
