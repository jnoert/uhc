{
 "cells": [
  {
   "cell_type": "code",
   "execution_count": 1,
   "metadata": {},
   "outputs": [
    {
     "name": "stdout",
     "output_type": "stream",
     "text": [
      "Total number of files: 13080\n",
      "Total size of files: 1309.27 MB\n",
      "\n",
      "20 Largest Files:\n",
      "                                               File Name  Size (Bytes)\n",
      "13055                                shots_2007-2022.zip     293421582\n",
      "12631                                game_level_team.csv     111246716\n",
      "13056                                     shots_2008.csv      61066109\n",
      "12614                                 skaters-merged.csv      53159543\n",
      "12305  pack-ec1ab30292e0d56fde04ee0f2b76490ec454d961....      42465153\n",
      "9762                                 libopenblas.0.dylib      19738544\n",
      "12675                  clean_skaters_playoffs_mp_agg.csv      19527992\n",
      "12752                           skaters-playoffs-agg.csv      19527882\n",
      "13057                                     shots_2008.zip      17894002\n",
      "12612                    skaters-per-season-complete.csv      15149747\n",
      "12623                skaters-per-season-complete_fix.csv      15145537\n",
      "58                           skaters_season_complete.csv      14941795\n",
      "12713                        skaters_season_complete.csv      14923830\n",
      "12607              skaters-per-season-complete_clean.csv      14863823\n",
      "12613                             skaters-merged_all.csv      11642241\n",
      "12604                            skaters-merged_5on5.csv      11556391\n",
      "13041                             lines_playoffs_agg.csv      11532656\n",
      "12603                            skaters-merged_5on4.csv      10053589\n",
      "12625                           skaters-merged_other.csv      10015055\n",
      "12615                            skaters-merged_4on5.csv       9906379\n"
     ]
    }
   ],
   "source": [
    "import os\n",
    "import pandas as pd\n",
    "\n",
    "# Define the path to your workspace (current directory)\n",
    "workspace_dir = os.getcwd()\n",
    "\n",
    "# Step 1: Walk through the directory to gather file information\n",
    "file_data = []\n",
    "for root, dirs, files in os.walk(workspace_dir):\n",
    "    for file in files:\n",
    "        file_path = os.path.join(root, file)\n",
    "        file_size = os.path.getsize(file_path)\n",
    "        file_data.append((file, file_size, file_path))\n",
    "\n",
    "# Step 2: Convert the file data to a pandas DataFrame\n",
    "df = pd.DataFrame(file_data, columns=['File Name', 'Size (Bytes)', 'Path'])\n",
    "\n",
    "# Step 3: Calculate total number of files and total size\n",
    "total_files = len(df)\n",
    "total_size = df['Size (Bytes)'].sum()\n",
    "\n",
    "# Step 4: Get the 20 largest files\n",
    "largest_files = df.nlargest(20, 'Size (Bytes)')\n",
    "\n",
    "# Step 5: Print the results\n",
    "print(f\"Total number of files: {total_files}\")\n",
    "print(f\"Total size of files: {total_size / (1024**2):.2f} MB\")  # Convert to MB\n",
    "print(\"\\n20 Largest Files:\")\n",
    "print(largest_files[['File Name', 'Size (Bytes)']])"
   ]
  },
  {
   "cell_type": "code",
   "execution_count": 2,
   "metadata": {},
   "outputs": [
    {
     "name": "stdout",
     "output_type": "stream",
     "text": [
      "Total number of files: 11\n",
      "Total size of files: 0.06 MB\n",
      "\n",
      "20 Largest Files:\n",
      "                                            File Name  Size (Bytes)\n",
      "10  program_player_name_corrections_w_special_char...         16751\n",
      "2                  z_program_team_abbreviations.ipynb         16151\n",
      "8                    program_special_characters.ipynb          4222\n",
      "1                               workspace_stats.ipynb          3738\n",
      "0               program_player_name_corrections.ipynb          3507\n",
      "9                program_assess_identical_files.ipynb          3471\n",
      "3                    program_team_abbreviations.ipynb          2581\n",
      "5                program-mp-situation-separator.ipynb          2402\n",
      "7                            program_file_facts.ipynb          2185\n",
      "4               program_convert_%_to_percentage.ipynb          2050\n",
      "6                    program_headings_lowercase.ipynb          1391\n"
     ]
    }
   ],
   "source": [
    "import os\n",
    "import pandas as pd\n",
    "\n",
    "# Define the path to your workspace (current directory)\n",
    "workspace_dir = os.getcwd()\n",
    "\n",
    "# Step 1: Define the file extensions to include\n",
    "allowed_extensions = {'.csv', '.xlsx', '.ipynb'}\n",
    "\n",
    "# Step 2: Walk through the directory to gather file information\n",
    "file_data = []\n",
    "for root, dirs, files in os.walk(workspace_dir):\n",
    "    for file in files:\n",
    "        if any(file.endswith(ext) for ext in allowed_extensions):\n",
    "            file_path = os.path.join(root, file)\n",
    "            file_size = os.path.getsize(file_path)\n",
    "            file_data.append((file, file_size, file_path))\n",
    "\n",
    "# Step 3: Convert the file data to a pandas DataFrame\n",
    "df = pd.DataFrame(file_data, columns=['File Name', 'Size (Bytes)', 'Path'])\n",
    "\n",
    "# Step 4: Calculate total number of files and total size\n",
    "total_files = len(df)\n",
    "total_size = df['Size (Bytes)'].sum()\n",
    "\n",
    "# Step 5: Get the 20 largest files\n",
    "largest_files = df.nlargest(20, 'Size (Bytes)')\n",
    "\n",
    "# Step 6: Print the results\n",
    "print(f\"Total number of files: {total_files}\")\n",
    "print(f\"Total size of files: {total_size / (1024**2):.2f} MB\")  # Convert to MB\n",
    "print(\"\\n20 Largest Files:\")\n",
    "print(largest_files[['File Name', 'Size (Bytes)']])"
   ]
  }
 ],
 "metadata": {
  "kernelspec": {
   "display_name": "myenv",
   "language": "python",
   "name": "python3"
  },
  "language_info": {
   "codemirror_mode": {
    "name": "ipython",
    "version": 3
   },
   "file_extension": ".py",
   "mimetype": "text/x-python",
   "name": "python",
   "nbconvert_exporter": "python",
   "pygments_lexer": "ipython3",
   "version": "3.9.6"
  }
 },
 "nbformat": 4,
 "nbformat_minor": 2
}
