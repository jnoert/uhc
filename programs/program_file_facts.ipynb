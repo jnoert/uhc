{
 "cells": [
  {
   "cell_type": "markdown",
   "metadata": {},
   "source": [
    "This program returns details around the creation date of a file in this workspace."
   ]
  },
  {
   "cell_type": "code",
   "execution_count": 1,
   "metadata": {},
   "outputs": [
    {
     "name": "stdout",
     "output_type": "stream",
     "text": [
      "The creation timestamp for assets/updated_asset.csv in Mountain Time is: 2024-08-14 01:11:46.020879-06:00\n",
      "The file was created 11.54 hours ago.\n"
     ]
    }
   ],
   "source": [
    "import os\n",
    "import pandas as pd\n",
    "from datetime import datetime\n",
    "import pytz\n",
    "\n",
    "# File path\n",
    "file_path = 'assets/updated_asset.csv'\n",
    "\n",
    "# Get the creation timestamp\n",
    "creation_time = os.path.getctime(file_path)\n",
    "\n",
    "# Convert to a UTC datetime object\n",
    "creation_time_utc = datetime.fromtimestamp(creation_time, pytz.utc)\n",
    "\n",
    "# Convert to Mountain Time\n",
    "mountain_time = creation_time_utc.astimezone(pytz.timezone('America/Denver'))\n",
    "\n",
    "# Get current time in Mountain Time\n",
    "current_time = datetime.now(pytz.timezone('America/Denver'))\n",
    "\n",
    "# Calculate the difference in hours\n",
    "time_difference = current_time - mountain_time\n",
    "hours_ago = time_difference.total_seconds() / 3600\n",
    "\n",
    "# Load the CSV file with pandas (optional)\n",
    "df = pd.read_csv(file_path)\n",
    "\n",
    "# Output the creation time in Mountain Time and how many hours ago it was created\n",
    "print(f\"The creation timestamp for {file_path} in Mountain Time is: {mountain_time}\")\n",
    "print(f\"The file was created {hours_ago:.2f} hours ago.\")"
   ]
  }
 ],
 "metadata": {
  "kernelspec": {
   "display_name": "myenv",
   "language": "python",
   "name": "python3"
  },
  "language_info": {
   "codemirror_mode": {
    "name": "ipython",
    "version": 3
   },
   "file_extension": ".py",
   "mimetype": "text/x-python",
   "name": "python",
   "nbconvert_exporter": "python",
   "pygments_lexer": "ipython3",
   "version": "3.9.6"
  }
 },
 "nbformat": 4,
 "nbformat_minor": 2
}
