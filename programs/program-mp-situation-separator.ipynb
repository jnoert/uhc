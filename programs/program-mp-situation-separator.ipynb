{
 "cells": [
  {
   "cell_type": "code",
   "execution_count": 1,
   "metadata": {},
   "outputs": [
    {
     "name": "stdout",
     "output_type": "stream",
     "text": [
      "File saved: assets/processing/other.csv\n",
      "File saved: assets/processing/all.csv\n",
      "File saved: assets/processing/5on5.csv\n",
      "File saved: assets/processing/4on5.csv\n",
      "File saved: assets/processing/5on4.csv\n",
      "All files have been separated based on 'situation'.\n"
     ]
    }
   ],
   "source": [
    "##### PROGRAM : _mp 'situation' separator\n",
    "\n",
    "import pandas as pd\n",
    "import os\n",
    "\n",
    "# Define the file path\n",
    "asset1 = 'assets/processing/goalies_season_mp_merged.csv'\n",
    "\n",
    "# Step 1: Load the CSV file\n",
    "df = pd.read_csv(asset1)\n",
    "\n",
    "# Step 2: Get the unique values in the 'situation' column\n",
    "situations = df['situation'].unique()\n",
    "\n",
    "# Step 3: Define the directory to save the separated files\n",
    "save_dir = os.path.dirname(asset1)  # Use the original file's directory\n",
    "base_filename = os.path.splitext(os.path.basename(asset1))[0]  # Extract the base filename\n",
    "\n",
    "# Step 4: Loop through each unique 'situation' value and save to a new CSV file\n",
    "for situation in situations:\n",
    "    # Filter the DataFrame for the current 'situation'\n",
    "    situation_df = df[df['situation'] == situation]\n",
    "    \n",
    "    # Define the filename based on the original filename and situation value\n",
    "    output_file = os.path.join(save_dir, f\"{base_filename}_{situation}.csv\")\n",
    "    \n",
    "    # Save the filtered DataFrame to a new CSV file\n",
    "    situation_df.to_csv(output_file, index=False)\n",
    "    \n",
    "    print(f\"File saved: {output_file}\")\n",
    "\n",
    "# Print completion message\n",
    "print(\"All files have been separated based on 'situation'.\")"
   ]
  }
 ],
 "metadata": {
  "kernelspec": {
   "display_name": "myenv",
   "language": "python",
   "name": "python3"
  },
  "language_info": {
   "codemirror_mode": {
    "name": "ipython",
    "version": 3
   },
   "file_extension": ".py",
   "mimetype": "text/x-python",
   "name": "python",
   "nbconvert_exporter": "python",
   "pygments_lexer": "ipython3",
   "version": "3.9.6"
  }
 },
 "nbformat": 4,
 "nbformat_minor": 2
}
